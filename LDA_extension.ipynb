{
  "nbformat": 4,
  "nbformat_minor": 0,
  "metadata": {
    "colab": {
      "provenance": [],
      "gpuType": "T4"
    },
    "kernelspec": {
      "name": "python3",
      "display_name": "Python 3"
    },
    "language_info": {
      "name": "python"
    },
    "accelerator": "TPU"
  },
  "cells": [
    {
      "cell_type": "markdown",
      "source": [
        "# LDA study & extension"
      ],
      "metadata": {
        "id": "B6vPMT2A0EbB"
      }
    },
    {
      "cell_type": "markdown",
      "source": [
        "## Preprocessing"
      ],
      "metadata": {
        "id": "g-3wRwcWKWUA"
      }
    },
    {
      "cell_type": "code",
      "execution_count": null,
      "metadata": {
        "id": "uXQk-gC6X1gX"
      },
      "outputs": [],
      "source": [
        "import numpy as np\n",
        "import nltk\n",
        "from nltk.corpus import stopwords\n",
        "from nltk.tokenize import RegexpTokenizer\n",
        "import matplotlib.pyplot as plt"
      ]
    },
    {
      "cell_type": "markdown",
      "source": [
        "### Download Data\n"
      ],
      "metadata": {
        "id": "7_qFxVGX0UvB"
      }
    },
    {
      "cell_type": "code",
      "source": [
        "from sklearn.datasets import fetch_20newsgroups\n",
        "\n",
        "#categories = ['alt.atheism', 'talk.religion.misc', 'comp.graphics', 'sci.space' , ]  # Choose desired categories\n",
        "#import without irrelevant/biasing metadata (footer & quotes)\n",
        "data = fetch_20newsgroups(subset='train',  shuffle=True, random_state=42, remove=('footers', 'quotes'))\n",
        "print(\"Number of documents:\", len(data.data))"
      ],
      "metadata": {
        "colab": {
          "base_uri": "https://localhost:8080/"
        },
        "id": "pCpE3gnTZLhN",
        "outputId": "9d0a463b-9eb7-401c-b09d-9a525e983c68"
      },
      "execution_count": null,
      "outputs": [
        {
          "output_type": "stream",
          "name": "stdout",
          "text": [
            "Number of documents: 11314\n"
          ]
        }
      ]
    },
    {
      "cell_type": "code",
      "source": [
        "# Get the text data and target labels\n",
        "documents = data.data\n",
        "labels = data.target\n",
        "\n",
        "# Print a few sample documents\n",
        "num_samples = 5  # Number of sample documents to print\n",
        "\n",
        "def printSampleDocuments(docs):\n",
        "    for i in range(min(num_samples, len(docs))):\n",
        "        print(f\"Document {i+1}:\")\n",
        "        print(f\"Category: {data.target_names[labels[i]]}\")\n",
        "        print(docs[i])\n",
        "        print(\"---------------------------------------------------\\n\")\n",
        "\n",
        "def printSampleMetadata(metadata):\n",
        "    for metaList in metadata:\n",
        "        print([name for name in globals() if globals()[name] is metaList][0] + ':')\n",
        "        for i in range(min(num_samples, len(metaList))):\n",
        "            print(metaList[i])\n",
        "        print(\"\\n\")\n",
        "\n",
        "printSampleDocuments(documents)"
      ],
      "metadata": {
        "id": "I69c66eWa16y"
      },
      "execution_count": null,
      "outputs": []
    },
    {
      "cell_type": "markdown",
      "source": [
        "### Metadata Extraction - cleaned_documents\n",
        "\n"
      ],
      "metadata": {
        "id": "lHyEikhw0b7d"
      }
    },
    {
      "cell_type": "code",
      "source": [
        "# Split document by double newlines, drop the first block, and combine again as a string\n",
        "import re\n",
        "cleaned_documents = []\n",
        "subjects = []\n",
        "keywords = []\n",
        "organizations = []\n",
        "for document in documents:\n",
        "    blocks = re.split(r'\\n\\s*\\n', document)\n",
        "    subjects.append(\" \".join(re.findall('Subject: (.*)\\n', blocks[0]) + re.findall('Summary: (.*)\\n', blocks[0])))\n",
        "    keywords.append(\" \".join(re.findall('Keywords: (.*)\\n', blocks[0])))\n",
        "    organizations.append(\" \".join(re.findall('Organization: (.*)\\n', blocks[0])))\n",
        "    cleaned_document = '\\n'.join(blocks[1:])  # Drop the first block\n",
        "    cleaned_documents.append(cleaned_document)\n",
        "\n",
        "printSampleDocuments(cleaned_documents)\n",
        "printSampleMetadata([subjects, keywords, organizations])"
      ],
      "metadata": {
        "id": "WrQYI54Rbpdt"
      },
      "execution_count": null,
      "outputs": []
    },
    {
      "cell_type": "markdown",
      "source": [
        "### Removing Stopwords\n",
        "Defined in advance to catch every form of possible stopwords"
      ],
      "metadata": {
        "id": "m0Q6XNAe0rZQ"
      }
    },
    {
      "cell_type": "code",
      "source": [
        "nltk.download('stopwords')"
      ],
      "metadata": {
        "id": "hHbC6EPBfGcb"
      },
      "execution_count": null,
      "outputs": []
    },
    {
      "cell_type": "code",
      "source": [
        "stopwords_list = stopwords.words('english')\n",
        "custom = [\"article\", \"writes\", \"entry\", \"date\", \"udel\", \"said\", \"tell\", \"think\", \"know\", \"just\", \"newsgroup\",\n",
        "                     \"line\", \"like\", \"does\", \"going\", \"make\", \"thanks\", \"could\", \"would\", \"re\", \"use\", \"good\", \"get\", \"also\", \"hey\"]\n",
        "stopwords_list.extend(custom)\n",
        "stopwords_list = set(stopwords_list)"
      ],
      "metadata": {
        "id": "0PqBNnfgtrIO"
      },
      "execution_count": null,
      "outputs": []
    },
    {
      "cell_type": "code",
      "source": [
        "def removeStopwords(documentList):\n",
        "    stopword_removed_documents = []\n",
        "    for tokens in documentList:\n",
        "        filtered_tokens = [token for token in tokens if token not in stopwords_list]\n",
        "        stopword_removed_documents.append(filtered_tokens)\n",
        "    return stopword_removed_documents"
      ],
      "metadata": {
        "id": "fdqSqj13gdtr"
      },
      "execution_count": null,
      "outputs": []
    },
    {
      "cell_type": "markdown",
      "source": [
        "### Tokenization - tokenized_documents\n"
      ],
      "metadata": {
        "id": "Ja4tMbjw0n3f"
      }
    },
    {
      "cell_type": "code",
      "source": [
        "REMOVE_DIGITS = True\n",
        "MIN_TOKEN_LEN = 3\n",
        "\n",
        "import nltk\n",
        "nltk.download('punkt')"
      ],
      "metadata": {
        "id": "YUe4u976uWN0"
      },
      "execution_count": null,
      "outputs": []
    },
    {
      "cell_type": "code",
      "source": [
        "def tokenizeTextList(textList, filterByLength = MIN_TOKEN_LEN):\n",
        "    tokenizedTextList = []\n",
        "    for text in textList:\n",
        "        text = re.sub('[0-9]+', ' ', text) if REMOVE_DIGITS else text\n",
        "        text = re.sub('[,./\\'|]', ' ', text)\n",
        "        tokens = nltk.word_tokenize(text)\n",
        "        filtered_tokens = [token.lower() for token in tokens if len(token) >= filterByLength]\n",
        "        tokenizedTextList.append(filtered_tokens)\n",
        "    return tokenizedTextList\n",
        "\n",
        "tokenized_documents = tokenizeTextList(cleaned_documents, MIN_TOKEN_LEN)\n",
        "tokenized_subjects = tokenizeTextList(subjects, MIN_TOKEN_LEN)\n",
        "tokenized_keywords = tokenizeTextList(keywords, 2) #to keep abbreviations\n",
        "tokenized_organizations = tokenizeTextList(organizations, 2) #to keep abbreviations\n",
        "\n",
        "tokenized_documents = removeStopwords(tokenized_documents)\n",
        "tokenized_subjects = removeStopwords(tokenized_subjects)\n",
        "tokenized_keywords = removeStopwords(tokenized_keywords)\n",
        "tokenized_organizations = removeStopwords(tokenized_organizations)\n",
        "\n",
        "printSampleDocuments(tokenized_documents)\n",
        "printSampleMetadata([tokenized_subjects, tokenized_keywords, tokenized_organizations])"
      ],
      "metadata": {
        "id": "P2dY-Moad6MP"
      },
      "execution_count": null,
      "outputs": []
    },
    {
      "cell_type": "markdown",
      "source": [
        "### Lemmatize tokens - lemmatized_documents\n"
      ],
      "metadata": {
        "id": "5pRnjX0qc7EO"
      }
    },
    {
      "cell_type": "code",
      "source": [
        "from nltk.stem.wordnet import WordNetLemmatizer\n",
        "nltk.download('wordnet')\n",
        "nltk.download('averaged_perceptron_tagger')"
      ],
      "metadata": {
        "id": "6GD_MBVAt0Hm"
      },
      "execution_count": null,
      "outputs": []
    },
    {
      "cell_type": "code",
      "source": [
        "\n",
        "lemmatizer = WordNetLemmatizer()\n",
        "\n",
        "def lemmatizeLists(list):\n",
        "    lemmatized_list = []\n",
        "    for tokens in list:\n",
        "        pos_tags = nltk.pos_tag(tokens)\n",
        "        lemmatized_tokens = []\n",
        "        for token, pos_tag in pos_tags:\n",
        "            # Map POS tag to WordNet POS tag\n",
        "            wn_pos_tag = nltk.corpus.wordnet.NOUN\n",
        "            if pos_tag.startswith('V'):\n",
        "                wn_pos_tag = nltk.corpus.wordnet.VERB\n",
        "            elif pos_tag.startswith('J'):\n",
        "                wn_pos_tag = nltk.corpus.wordnet.ADJ\n",
        "            elif pos_tag.startswith('R'):\n",
        "                wn_pos_tag = nltk.corpus.wordnet.ADV\n",
        "            lemmatized_tokens.append(lemmatizer.lemmatize(token, pos = wn_pos_tag))\n",
        "        lemmatized_list.append(lemmatized_tokens)\n",
        "    return lemmatized_list\n",
        "\n",
        "lemmatized_documents = lemmatizeLists(tokenized_documents)\n",
        "lemmatized_subjects = lemmatizeLists(tokenized_subjects)\n",
        "lemmatized_keywords = lemmatizeLists(tokenized_keywords)\n",
        "lemmatized_organizations = lemmatizeLists(tokenized_organizations)\n",
        "\n",
        "lemmatized_documents = removeStopwords(lemmatized_documents)\n",
        "lemmatized_subjects = removeStopwords(lemmatized_subjects)\n",
        "lemmatized_keywords = removeStopwords(lemmatized_keywords)\n",
        "lemmatized_organizations = removeStopwords(lemmatized_organizations)"
      ],
      "metadata": {
        "id": "B5PKLHBJdIDu"
      },
      "execution_count": null,
      "outputs": []
    },
    {
      "cell_type": "code",
      "source": [
        "printSampleDocuments(lemmatized_documents)\n",
        "printSampleMetadata([lemmatized_subjects, lemmatized_keywords, lemmatized_organizations])"
      ],
      "metadata": {
        "id": "8sVSwqT5HlDI"
      },
      "execution_count": null,
      "outputs": []
    },
    {
      "cell_type": "markdown",
      "source": [
        "###Stemm tokens - stemmed_documents"
      ],
      "metadata": {
        "id": "RPizg7UcpGtJ"
      }
    },
    {
      "cell_type": "code",
      "source": [
        "from nltk.stem import PorterStemmer"
      ],
      "metadata": {
        "id": "TenucdWCuroj"
      },
      "execution_count": null,
      "outputs": []
    },
    {
      "cell_type": "code",
      "source": [
        "stemmer = PorterStemmer()\n",
        "\n",
        "def stemmTokenLists(listOfLists):\n",
        "    stemmed_list = []\n",
        "    for tokens in listOfLists:\n",
        "        stemmed_tokens = [stemmer.stem(token) for token in tokens]\n",
        "        stemmed_list.append(stemmed_tokens)\n",
        "    return stemmed_list\n",
        "\n",
        "stemmed_documents = stemmTokenLists(lemmatized_documents)\n",
        "stemmed_subjects = stemmTokenLists(lemmatized_subjects)\n",
        "stemmed_keywords = stemmTokenLists(lemmatized_keywords)\n",
        "stemmed_organizations = stemmTokenLists(lemmatized_organizations)\n",
        "\n",
        "stemmed_documents = removeStopwords(stemmed_documents)\n",
        "stemmed_subjects = removeStopwords(stemmed_subjects)\n",
        "stemmed_keywords = removeStopwords(stemmed_keywords)\n",
        "stemmed_organizations = removeStopwords(stemmed_organizations)\n",
        "\n",
        "printSampleDocuments(stemmed_documents)\n",
        "printSampleMetadata([stemmed_subjects, stemmed_keywords, stemmed_organizations])"
      ],
      "metadata": {
        "id": "uDPyj-RkpMS2"
      },
      "execution_count": null,
      "outputs": []
    },
    {
      "cell_type": "code",
      "source": [
        "n_documents = len(stemmed_documents)\n",
        "print(\"Number of documents:\", n_documents)"
      ],
      "metadata": {
        "colab": {
          "base_uri": "https://localhost:8080/"
        },
        "id": "LeHuqhMyh2_g",
        "outputId": "87f0f00a-b41d-46a6-cd48-c422c07aa694"
      },
      "execution_count": null,
      "outputs": [
        {
          "output_type": "stream",
          "name": "stdout",
          "text": [
            "Number of documents: 11314\n"
          ]
        }
      ]
    },
    {
      "cell_type": "markdown",
      "source": [
        "## Model Train and hLDA"
      ],
      "metadata": {
        "id": "vnIxKA6P02eH"
      }
    },
    {
      "cell_type": "code",
      "source": [
        "import logging\n",
        "from pprint import pprint\n",
        "from time import time\n",
        "from sklearn.feature_extraction.text import CountVectorizer\n",
        "from sklearn.feature_extraction.text import TfidfTransformer\n",
        "from sklearn.feature_extraction.text import TfidfVectorizer\n",
        "from sklearn.decomposition import LatentDirichletAllocation\n",
        "from sklearn.model_selection import GridSearchCV\n",
        "from sklearn.pipeline import Pipeline"
      ],
      "metadata": {
        "id": "1VpkPkWShOMy"
      },
      "execution_count": null,
      "outputs": []
    },
    {
      "cell_type": "markdown",
      "source": [
        "### Gridsearches"
      ],
      "metadata": {
        "id": "BSv1EPsWII4M"
      }
    },
    {
      "cell_type": "code",
      "source": [
        "\n",
        "# Display progress logs on stdout\n",
        "logging.basicConfig(level=logging.INFO,\n",
        "                    format='%(asctime)s %(levelname)s %(message)s')\n",
        "\n",
        "# Create the LDA model\n",
        "n_topics = 15  # Specify the number of topics\n",
        "lda_model = LatentDirichletAllocation(n_components=n_topics, random_state=42)\n",
        "\n",
        "# Define a pipeline combining a text feature extractor with a simple classifier\n",
        "pipeline = Pipeline(steps=[\n",
        "    ('vect', CountVectorizer()),\n",
        "    ('tfidf', TfidfTransformer()),\n",
        "    ('lda', lda_model),\n",
        "])\n",
        "\n",
        "# uncommenting more parameters will give better exploring power but will\n",
        "# increase processing time in a combinatorial way\n",
        "parameters = {\n",
        "    'vect__max_df': (0.5, 1.0), #, 0.75),\n",
        "    'vect__min_df': (1, 2, 0.01), #, 3, 5, 0.05),\n",
        "    #'vect__max_features': (None, 5000, 10000, 50000),\n",
        "    #'vect__ngram_range': ((1, 1), (1, 2)),  # unigrams or bigrams\n",
        "    #'tfidf__use_idf': (True, False),\n",
        "    #'tfidf__norm': ('l1', 'l2')\n",
        "}\n",
        "\n",
        "# find the best parameters for both the feature extraction and the\n",
        "# classifier\n",
        "grid_search = GridSearchCV(pipeline, parameters, n_jobs=-1, verbose=1)\n",
        "\n",
        "token_documents = [' '.join(tokens) for tokens in lemmatized_documents]\n",
        "pprint(token_documents[:5])\n",
        "\n",
        "print(\"Performing grid search...\")\n",
        "print(\"pipeline:\", [name for name, _ in pipeline.steps])\n",
        "print(\"parameters:\")\n",
        "t0 = time()\n",
        "grid_search.fit(token_documents, data.target)\n",
        "print(\"done in %0.3fs\" % (time() - t0))\n",
        "print()\n",
        "print(\"Best score: %0.3f\" % grid_search.best_score_)\n",
        "print(\"Best parameters set:\")\n",
        "best_parameters = grid_search.best_estimator_.get_params()\n",
        "for param_name in sorted(parameters.keys()):\n",
        "    print(\"\\t%s: %r\" % (param_name, best_parameters[param_name]))"
      ],
      "metadata": {
        "id": "H3nRaOZMOpOM"
      },
      "execution_count": null,
      "outputs": []
    },
    {
      "cell_type": "code",
      "source": [
        "\n",
        "# Define a pipeline combining a text feature extractor with a simple classifier\n",
        "pipeline = Pipeline(steps=[\n",
        "    ('tfidf', TfidfVectorizer()),\n",
        "    ('lda', lda_model),\n",
        "])\n",
        "\n",
        "# uncommenting more parameters will give better exploring power but will\n",
        "# increase processing time in a combinatorial way\n",
        "parameters = {\n",
        "    'tfidf__use_idf': (True, False),\n",
        "    'tfidf__norm': ('l1', 'l2')\n",
        "}\n",
        "\n",
        "# find the best parameters for both the feature extraction and the\n",
        "# classifier\n",
        "grid_search = GridSearchCV(pipeline, parameters, n_jobs=-1, verbose=1)\n",
        "\n",
        "print(\"Performing grid search...\")\n",
        "print(\"pipeline:\", [name for name, _ in pipeline.steps])\n",
        "print(\"parameters:\")\n",
        "t0 = time()\n",
        "grid_search.fit(token_documents, data.target)\n",
        "print(\"done in %0.3fs\" % (time() - t0))\n",
        "print()\n",
        "print(\"Best score: %0.3f\" % grid_search.best_score_)\n",
        "print(\"Best parameters set:\")\n",
        "best_parameters = grid_search.best_estimator_.get_params()\n",
        "for param_name in sorted(parameters.keys()):\n",
        "    print(\"\\t%s: %r\" % (param_name, best_parameters[param_name]))"
      ],
      "metadata": {
        "id": "SjQMjohEhnLQ"
      },
      "execution_count": null,
      "outputs": []
    },
    {
      "cell_type": "code",
      "source": [
        "grid_search.cv_results_"
      ],
      "metadata": {
        "id": "YqQcAX12JTQ7"
      },
      "execution_count": null,
      "outputs": []
    },
    {
      "cell_type": "markdown",
      "source": [
        "### LDA & hLDA"
      ],
      "metadata": {
        "id": "vXqhusAtIMJK"
      }
    },
    {
      "cell_type": "code",
      "source": [
        "HIERARCHICAL_LDA = True\n",
        "INCLUDE_ORGANIZATIONS = False\n",
        "HIERARCHICAL_WEIGHT = 5\n",
        "\n",
        "if(HIERARCHICAL_LDA):\n",
        "  for i in range(len(tokenized_documents)):\n",
        "    tokenized_documents[i].extend(HIERARCHICAL_WEIGHT * (tokenized_subjects[i] + tokenized_keywords[i] + (tokenized_organizations[i] if INCLUDE_ORGANIZATIONS else [])))\n",
        "    stemmed_documents[i].extend(HIERARCHICAL_WEIGHT * (stemmed_subjects[i] + stemmed_keywords[i] + (stemmed_organizations[i] if INCLUDE_ORGANIZATIONS else [])))\n",
        "    lemmatized_documents[i].extend(HIERARCHICAL_WEIGHT * (lemmatized_subjects[i] + lemmatized_keywords[i] + (lemmatized_organizations[i] if INCLUDE_ORGANIZATIONS else [])))\n",
        "\n",
        "\n",
        "#parameter obtained from previous grid-searches sampled on lemmatized_documents since search is time and power intense\n",
        "count_vectorizer = CountVectorizer(min_df = 0.01, max_df = 0.5)\n",
        "tfidf_vectorizer = TfidfVectorizer(min_df = 0.01, max_df = 0.5, norm = 'l2', use_idf = True)\n",
        "#count_vector_docs = count_vectorizer.fit_transform([' '.join(tokens) for tokens in tokenized_documents])\n",
        "count_vector_lemm_docs = count_vectorizer.fit_transform([' '.join(tokens) for tokens in lemmatized_documents])\n",
        "#count_vector_stemmed_docs = count_vectorizer.fit_transform([' '.join(tokens) for tokens in stemmed_documents])\n",
        "#tfidf_vector_docs = tfidf_vectorizer.fit_transform([' '.join(tokens) for tokens in tokenized_documents])\n",
        "tfidf_vector_lemm_docs = tfidf_vectorizer.fit_transform([' '.join(tokens) for tokens in lemmatized_documents])\n",
        "#tfidf_vector_stemmed_docs = tfidf_vectorizer.fit_transform([' '.join(tokens) for tokens in stemmed_documents])"
      ],
      "metadata": {
        "id": "3cYtKRRHoA2M"
      },
      "execution_count": null,
      "outputs": []
    },
    {
      "cell_type": "code",
      "source": [
        "print(len(tokenized_documents))"
      ],
      "metadata": {
        "colab": {
          "base_uri": "https://localhost:8080/"
        },
        "id": "izWmuAHk2S1v",
        "outputId": "240342a2-cd23-4fee-f0d6-5dd49426f678"
      },
      "execution_count": null,
      "outputs": [
        {
          "output_type": "stream",
          "name": "stdout",
          "text": [
            "11314\n"
          ]
        }
      ]
    },
    {
      "cell_type": "code",
      "source": [
        "from sklearn.decomposition import LatentDirichletAllocation\n",
        "\n",
        "# Create the LDA model\n",
        "n_topics = 15\n",
        "lda_model = LatentDirichletAllocation(n_components=n_topics, random_state=42, learning_method=\"online\")\n",
        "# Fit the LDA model to the vectorized documents\n",
        "output = lda_model.fit_transform(count_vector_lemm_docs)\n",
        "#output = lda_model.fit_transform(tfidf_vector_lemm_docs)"
      ],
      "metadata": {
        "id": "L921nVpFjGs8"
      },
      "execution_count": null,
      "outputs": []
    },
    {
      "cell_type": "code",
      "source": [
        "print(output.shape)\n",
        "print(count_vector_lemm_docs.shape)\n",
        "#print(tfidf_vector_lemm_docs.shape)\n",
        "print(lda_model.components_[:15])"
      ],
      "metadata": {
        "id": "yWdoxaB2E3ku"
      },
      "execution_count": null,
      "outputs": []
    },
    {
      "cell_type": "markdown",
      "source": [
        "## Show Topics"
      ],
      "metadata": {
        "id": "0vrkmCzl0_eb"
      }
    },
    {
      "cell_type": "markdown",
      "source": [
        "### topic-word distribution"
      ],
      "metadata": {
        "id": "5-bWkhNAIZ7P"
      }
    },
    {
      "cell_type": "code",
      "source": [
        "n_top_words = 10\n",
        "feature_names = count_vectorizer.get_feature_names_out()\n",
        "#feature_names = tfidf_vectorizer.get_feature_names_out()\n",
        "\n",
        "topic_top_words = []\n",
        "\n",
        "for topic_idx, topic in enumerate(lda_model.components_):\n",
        "    top_words_idx = topic.argsort()[:-n_top_words - 1:-1]\n",
        "    top_words = [feature_names[i] for i in top_words_idx]\n",
        "    topic_top_words.append(top_words)\n",
        "    print(f\"Topic #{topic_idx}: {', '.join(top_words)}\")"
      ],
      "metadata": {
        "id": "MQqc1SqfkHhI"
      },
      "execution_count": null,
      "outputs": []
    },
    {
      "cell_type": "code",
      "source": [
        "# Infer topic distribution for a document\n",
        "document_index = 0\n",
        "document_topic_distribution = lda_model.transform(count_vector_lemm_docs)\n",
        "#document_topic_distribution = lda_model.transform(tfidf_vector_lemm_docs)\n",
        "print(f\"Topic distribution for Document #{document_index}:\")\n",
        "print(document_topic_distribution.shape)"
      ],
      "metadata": {
        "id": "MKu3dJ_kj4Mp"
      },
      "execution_count": null,
      "outputs": []
    },
    {
      "cell_type": "markdown",
      "source": [
        "### category topic matching"
      ],
      "metadata": {
        "id": "C8ZHSJZfIeWU"
      }
    },
    {
      "cell_type": "code",
      "source": [
        "dominant_topics = [np.argmax(single_distribution) for single_distribution in document_topic_distribution]\n",
        "print(dominant_topics)"
      ],
      "metadata": {
        "id": "yRpzOV4hj58k",
        "colab": {
          "base_uri": "https://localhost:8080/"
        },
        "outputId": "5705b992-4d93-47bb-f876-7f3ae4d65547"
      },
      "execution_count": null,
      "outputs": [
        {
          "output_type": "stream",
          "name": "stdout",
          "text": [
            "[14, 14, 14, 13, 0, 6, 3, 12, 1, 1, 14, 6, 0, 4, 9, 9, 5, 14, 6, 1, 5, 12, 4, 1, 12, 4, 0, 0, 5, 14, 14, 14, 0, 3, 1, 5, 5, 5, 6, 2, 5, 4, 13, 14, 5, 1, 4, 14, 5, 3, 7, 8, 7, 5, 3, 13, 14, 9, 1, 0, 4, 10, 7, 9, 4, 5, 4, 3, 5, 9, 3, 2, 14, 14, 7, 7, 13, 14, 1, 7, 11, 10, 4, 4, 14, 11, 6, 6, 6, 0, 1, 3, 7, 1, 0, 14, 4, 2, 8, 4, 1, 5, 14, 7, 3, 6, 14, 14, 14, 9, 5, 7, 7, 5, 12, 5, 5, 13, 1, 0, 8, 14, 7, 8, 8, 5, 10, 5, 14, 5, 9, 3, 9, 3, 0, 8, 5, 7, 4, 5, 5, 12, 7, 14, 0, 5, 1, 3, 8, 3, 6, 6, 5, 0, 7, 4, 14, 8, 5, 5, 3, 2, 11, 14, 0, 7, 9, 1, 4, 14, 5, 0, 12, 1, 12, 7, 0, 6, 5, 14, 5, 14, 5, 5, 7, 12, 14, 4, 13, 4, 7, 4, 13, 5, 7, 7, 14, 5, 6, 7, 2, 14, 5, 5, 13, 14, 7, 0, 14, 5, 5, 0, 2, 13, 7, 5, 7, 7, 5, 5, 5, 5, 0, 6, 3, 11, 2, 5, 2, 6, 5, 1, 14, 14, 1, 1, 14, 5, 0, 11, 5, 8, 7, 14, 13, 13, 6, 5, 8, 4, 4, 2, 5, 3, 5, 1, 12, 14, 12, 7, 5, 3, 14, 14, 6, 4, 12, 3, 0, 1, 7, 1, 5, 1, 14, 4, 7, 1, 0, 13, 7, 7, 5, 9, 1, 11, 5, 5, 5, 7, 1, 2, 0, 6, 14, 8, 14, 14, 0, 3, 14, 13, 7, 5, 14, 6, 11, 9, 1, 7, 6, 5, 3, 7, 7, 5, 1, 6, 6, 8, 10, 4, 5, 12, 7, 5, 14, 14, 7, 6, 5, 5, 11, 1, 12, 3, 1, 5, 4, 7, 13, 5, 7, 0, 8, 12, 10, 8, 7, 6, 14, 6, 8, 0, 8, 14, 11, 5, 7, 8, 9, 3, 6, 5, 8, 5, 8, 10, 14, 5, 0, 12, 9, 6, 6, 7, 8, 5, 3, 1, 4, 5, 2, 5, 14, 10, 14, 8, 14, 14, 6, 6, 7, 7, 8, 7, 14, 0, 5, 6, 13, 6, 14, 7, 0, 1, 12, 1, 6, 7, 5, 6, 6, 5, 6, 2, 4, 7, 1, 4, 5, 3, 5, 3, 9, 4, 7, 7, 7, 5, 7, 14, 14, 13, 14, 3, 5, 14, 14, 0, 1, 12, 8, 5, 6, 14, 14, 5, 11, 9, 14, 5, 14, 3, 6, 14, 4, 5, 5, 8, 5, 14, 2, 6, 5, 6, 14, 6, 5, 3, 7, 12, 14, 14, 2, 3, 8, 8, 1, 12, 9, 6, 12, 1, 5, 1, 4, 5, 1, 5, 0, 5, 6, 6, 5, 6, 11, 14, 14, 14, 4, 14, 12, 3, 5, 14, 7, 3, 11, 5, 5, 1, 7, 1, 14, 7, 9, 14, 7, 2, 14, 7, 5, 5, 5, 7, 14, 4, 14, 6, 7, 7, 5, 0, 14, 11, 3, 14, 4, 14, 13, 14, 5, 10, 5, 0, 12, 14, 7, 4, 1, 8, 4, 11, 5, 6, 3, 5, 5, 14, 5, 1, 7, 3, 14, 1, 8, 9, 11, 0, 12, 14, 5, 1, 5, 5, 1, 0, 7, 14, 6, 14, 13, 12, 5, 7, 12, 14, 7, 1, 5, 3, 14, 6, 6, 8, 1, 5, 14, 7, 4, 11, 2, 14, 4, 14, 1, 6, 14, 6, 1, 8, 5, 4, 5, 6, 1, 14, 14, 1, 14, 14, 14, 6, 7, 3, 14, 14, 5, 8, 7, 14, 9, 1, 8, 1, 5, 8, 0, 6, 1, 3, 5, 8, 3, 1, 14, 5, 5, 5, 8, 1, 14, 14, 0, 9, 5, 6, 3, 14, 5, 1, 7, 5, 14, 9, 3, 1, 3, 14, 6, 12, 14, 5, 3, 1, 9, 7, 7, 4, 13, 9, 14, 12, 5, 14, 14, 3, 2, 8, 5, 3, 5, 1, 13, 6, 3, 3, 4, 5, 4, 5, 13, 5, 14, 6, 6, 5, 4, 7, 13, 4, 6, 10, 12, 5, 5, 1, 8, 8, 12, 8, 14, 5, 12, 6, 7, 8, 12, 5, 14, 3, 13, 12, 5, 1, 14, 1, 14, 8, 4, 14, 5, 4, 13, 7, 1, 5, 8, 3, 3, 5, 7, 5, 0, 14, 1, 2, 0, 5, 6, 5, 0, 14, 3, 7, 5, 14, 4, 4, 3, 14, 7, 14, 1, 3, 1, 12, 5, 7, 12, 6, 9, 5, 6, 6, 3, 3, 5, 4, 14, 9, 3, 1, 7, 14, 7, 5, 5, 5, 9, 8, 5, 0, 7, 5, 5, 14, 7, 5, 0, 5, 0, 7, 10, 12, 4, 14, 5, 3, 1, 14, 4, 1, 7, 7, 14, 2, 13, 8, 9, 12, 3, 8, 1, 12, 6, 1, 7, 14, 9, 14, 12, 1, 0, 5, 3, 11, 4, 5, 1, 0, 5, 0, 1, 2, 14, 1, 5, 7, 8, 6, 9, 12, 5, 5, 13, 2, 14, 4, 12, 1, 5, 0, 9, 14, 14, 14, 3, 10, 5, 7, 9, 6, 14, 4, 6, 10, 5, 5, 6, 8, 5, 5, 2, 14, 1, 9, 3, 5, 5, 5, 7, 5, 5, 6, 3, 12, 14, 7, 14, 14, 2, 8, 3, 6, 11, 7, 12, 3, 14, 2, 4, 5, 14, 14, 2, 7, 3, 7, 5, 13, 10, 14, 5, 8, 8, 14, 3, 5, 9, 5, 13, 14, 14, 5, 14, 5, 14, 12, 2, 12, 4, 4, 1, 3, 1, 14, 14, 1, 14, 8, 7, 14, 5, 14, 5, 5, 14, 14, 5, 14, 5, 1, 8, 5, 3, 14, 1, 14, 13, 3, 9, 8, 5, 4, 9, 14, 0, 14, 7, 12, 1, 14, 0, 9, 3, 6, 4, 5, 1, 14, 3, 14, 3, 14, 5, 5, 7, 5, 14, 5, 5, 14, 3, 8, 8, 5, 4, 4, 7, 5, 1, 5, 5, 2, 4, 0, 12, 13, 7, 8, 9, 14, 2, 0, 6, 3, 4, 14, 1, 1, 6, 13, 14, 8, 3, 4, 5, 14, 5, 7, 14, 14, 8, 9, 9, 1, 7, 5, 14, 14, 7, 7, 14, 4, 14, 5, 11, 12, 3, 0, 5, 3, 6, 5, 10, 9, 5, 14, 7, 1, 14, 7, 7, 4, 14, 3, 14, 7, 4, 3, 13, 5, 14, 3, 7, 5, 5, 9, 14, 14, 1, 14, 5, 14, 5, 14, 7, 5, 8, 14, 14, 0, 14, 12, 1, 9, 4, 7, 8, 13, 14, 14, 14, 9, 2, 5, 4, 8, 3, 2, 3, 3, 14, 14, 8, 5, 13, 0, 7, 0, 8, 9, 14, 1, 1, 5, 11, 12, 11, 7, 6, 5, 8, 12, 1, 0, 11, 6, 14, 7, 7, 5, 12, 7, 5, 4, 0, 0, 3, 5, 14, 5, 14, 8, 0, 9, 14, 10, 2, 14, 13, 14, 9, 7, 1, 14, 13, 1, 12, 3, 3, 5, 12, 5, 3, 12, 8, 6, 5, 9, 14, 6, 12, 5, 2, 7, 5, 14, 11, 12, 13, 12, 5, 9, 1, 14, 8, 9, 5, 1, 14, 3, 14, 7, 5, 0, 8, 14, 12, 7, 5, 5, 2, 1, 5, 7, 6, 14, 14, 9, 1, 12, 1, 5, 3, 5, 5, 5, 9, 8, 7, 5, 7, 11, 5, 1, 3, 13, 7, 5, 7, 3, 5, 5, 5, 5, 6, 7, 14, 13, 1, 5, 4, 4, 7, 7, 5, 2, 1, 3, 8, 5, 3, 7, 8, 14, 0, 3, 6, 5, 14, 5, 13, 14, 5, 9, 5, 5, 5, 8, 3, 3, 7, 3, 2, 8, 1, 7, 4, 8, 5, 1, 14, 1, 14, 0, 12, 14, 8, 3, 2, 14, 14, 5, 12, 7, 0, 6, 14, 14, 5, 8, 5, 2, 10, 1, 6, 1, 14, 8, 3, 5, 5, 4, 6, 2, 7, 5, 14, 14, 7, 6, 6, 4, 14, 0, 6, 6, 5, 5, 2, 5, 0, 12, 5, 14, 13, 1, 7, 6, 14, 0, 14, 5, 7, 7, 6, 13, 12, 8, 14, 3, 5, 14, 6, 8, 7, 14, 4, 2, 6, 6, 5, 3, 13, 5, 5, 14, 6, 5, 0, 1, 5, 14, 5, 5, 5, 0, 8, 14, 5, 9, 10, 9, 0, 14, 13, 14, 3, 7, 14, 4, 6, 1, 12, 3, 7, 0, 2, 3, 14, 7, 7, 5, 12, 5, 14, 8, 8, 5, 14, 8, 6, 14, 12, 13, 3, 12, 0, 3, 3, 13, 5, 0, 7, 4, 14, 4, 7, 14, 5, 7, 2, 7, 7, 2, 5, 4, 5, 11, 4, 7, 5, 2, 14, 5, 8, 7, 4, 8, 5, 6, 9, 6, 5, 14, 6, 1, 8, 10, 0, 3, 4, 7, 5, 13, 11, 8, 14, 14, 1, 3, 14, 9, 0, 5, 14, 5, 12, 5, 7, 3, 14, 6, 14, 3, 6, 6, 14, 9, 7, 9, 7, 1, 13, 1, 5, 7, 14, 4, 5, 14, 8, 7, 5, 3, 4, 7, 4, 0, 14, 12, 7, 1, 7, 1, 5, 8, 5, 5, 1, 5, 4, 12, 3, 8, 10, 5, 5, 3, 5, 14, 14, 8, 6, 1, 0, 14, 12, 0, 14, 12, 5, 14, 9, 3, 3, 1, 7, 14, 4, 1, 3, 7, 11, 14, 5, 12, 14, 0, 14, 5, 0, 14, 2, 14, 4, 5, 8, 2, 4, 1, 1, 7, 5, 14, 10, 5, 14, 2, 3, 12, 6, 6, 7, 8, 5, 5, 7, 14, 5, 14, 9, 2, 7, 7, 14, 3, 3, 14, 14, 5, 14, 14, 1, 7, 5, 4, 12, 9, 8, 3, 10, 9, 9, 1, 0, 8, 9, 14, 7, 12, 14, 12, 7, 14, 8, 2, 13, 8, 3, 1, 1, 0, 12, 9, 8, 14, 7, 0, 5, 1, 14, 5, 13, 7, 1, 13, 5, 12, 8, 14, 14, 6, 3, 14, 14, 9, 9, 5, 14, 7, 7, 14, 14, 0, 1, 9, 1, 7, 7, 8, 6, 5, 9, 5, 11, 7, 5, 3, 1, 5, 7, 4, 5, 1, 12, 11, 9, 5, 12, 6, 3, 1, 6, 1, 5, 6, 8, 14, 14, 7, 6, 0, 9, 3, 14, 1, 14, 5, 9, 7, 11, 5, 5, 14, 6, 5, 14, 2, 8, 5, 3, 6, 5, 14, 1, 12, 5, 14, 7, 14, 5, 12, 2, 3, 5, 14, 14, 7, 7, 3, 4, 4, 6, 7, 14, 6, 7, 5, 1, 14, 14, 14, 6, 13, 14, 14, 14, 9, 7, 8, 7, 7, 7, 13, 1, 14, 6, 0, 13, 5, 12, 5, 7, 14, 3, 5, 5, 4, 5, 14, 0, 14, 14, 1, 1, 14, 1, 7, 7, 4, 6, 7, 8, 12, 2, 7, 0, 7, 12, 9, 1, 5, 7, 5, 12, 0, 4, 7, 6, 14, 14, 14, 0, 14, 7, 5, 4, 7, 14, 11, 1, 5, 14, 5, 13, 7, 7, 7, 5, 0, 14, 14, 3, 5, 12, 0, 12, 14, 5, 3, 1, 14, 8, 7, 1, 13, 12, 7, 3, 0, 5, 5, 4, 9, 5, 9, 3, 8, 1, 5, 9, 7, 6, 14, 5, 3, 2, 14, 5, 3, 3, 14, 8, 13, 3, 5, 14, 8, 2, 12, 5, 7, 5, 8, 8, 0, 12, 9, 0, 5, 8, 0, 7, 1, 4, 7, 4, 14, 1, 14, 2, 6, 5, 13, 5, 5, 6, 5, 5, 5, 5, 2, 5, 1, 14, 4, 6, 7, 0, 9, 5, 6, 8, 7, 7, 7, 14, 4, 8, 0, 14, 0, 12, 9, 6, 14, 13, 14, 8, 1, 2, 10, 0, 4, 8, 12, 6, 10, 5, 14, 4, 5, 7, 10, 12, 5, 7, 12, 10, 7, 14, 5, 9, 14, 3, 8, 1, 8, 9, 12, 4, 0, 5, 3, 14, 6, 0, 12, 8, 4, 14, 14, 1, 5, 14, 5, 6, 14, 8, 10, 4, 14, 10, 5, 14, 5, 3, 3, 14, 6, 0, 7, 0, 12, 1, 3, 9, 14, 14, 8, 4, 14, 9, 9, 14, 14, 0, 7, 13, 3, 14, 4, 7, 3, 5, 4, 3, 14, 1, 14, 4, 13, 5, 8, 2, 7, 5, 14, 4, 5, 0, 14, 5, 3, 9, 14, 6, 5, 4, 14, 12, 3, 14, 5, 6, 1, 9, 3, 0, 2, 0, 5, 7, 1, 1, 5, 7, 6, 5, 6, 13, 1, 4, 11, 14, 5, 5, 5, 12, 8, 5, 3, 14, 2, 5, 5, 5, 5, 3, 6, 5, 1, 14, 0, 8, 9, 6, 14, 7, 7, 14, 1, 5, 12, 14, 14, 1, 14, 7, 1, 1, 5, 0, 6, 3, 3, 5, 6, 14, 9, 4, 7, 10, 3, 7, 1, 5, 14, 0, 14, 7, 6, 5, 3, 4, 12, 4, 12, 5, 5, 8, 13, 14, 2, 5, 8, 2, 5, 1, 14, 5, 5, 3, 5, 3, 14, 5, 8, 3, 4, 3, 6, 5, 5, 7, 5, 2, 1, 7, 5, 14, 14, 7, 5, 6, 0, 4, 14, 10, 7, 5, 5, 14, 7, 0, 5, 13, 5, 1, 5, 8, 8, 1, 5, 5, 7, 8, 7, 6, 1, 5, 5, 3, 3, 7, 0, 5, 14, 3, 1, 5, 9, 14, 14, 5, 2, 12, 4, 5, 1, 6, 14, 13, 14, 7, 9, 5, 7, 0, 5, 14, 5, 14, 5, 9, 14, 12, 14, 13, 14, 5, 14, 5, 5, 14, 13, 0, 5, 5, 14, 4, 3, 7, 12, 11, 8, 14, 2, 6, 7, 6, 7, 5, 7, 1, 1, 0, 0, 1, 5, 1, 14, 5, 14, 0, 5, 0, 7, 0, 7, 4, 14, 12, 12, 3, 6, 10, 5, 8, 0, 14, 14, 5, 7, 5, 5, 4, 10, 5, 14, 1, 3, 3, 1, 14, 14, 1, 11, 5, 14, 13, 5, 5, 1, 1, 3, 4, 0, 13, 14, 14, 14, 6, 5, 2, 1, 5, 14, 4, 5, 9, 5, 4, 7, 2, 1, 5, 4, 5, 13, 5, 12, 10, 0, 1, 0, 14, 3, 1, 9, 9, 14, 14, 0, 5, 5, 5, 1, 3, 1, 1, 0, 4, 3, 6, 14, 7, 3, 9, 7, 5, 6, 5, 14, 13, 5, 14, 13, 8, 12, 14, 3, 6, 6, 9, 5, 3, 8, 3, 11, 6, 3, 14, 3, 14, 4, 0, 12, 1, 1, 2, 4, 9, 1, 12, 7, 7, 3, 5, 5, 5, 9, 7, 5, 8, 5, 5, 14, 1, 5, 1, 3, 6, 6, 12, 7, 4, 14, 10, 7, 14, 5, 4, 1, 4, 5, 3, 5, 1, 7, 1, 5, 8, 2, 5, 9, 6, 7, 1, 1, 6, 4, 7, 6, 7, 6, 3, 8, 13, 9, 6, 7, 14, 7, 10, 5, 0, 4, 14, 1, 8, 7, 13, 8, 6, 6, 6, 7, 0, 6, 2, 7, 4, 5, 14, 14, 14, 7, 5, 1, 5, 14, 14, 3, 14, 0, 5, 14, 1, 6, 14, 7, 6, 8, 3, 14, 1, 6, 5, 13, 7, 5, 14, 3, 5, 5, 5, 13, 9, 5, 14, 5, 5, 1, 3, 10, 2, 1, 14, 12, 14, 5, 6, 7, 12, 13, 8, 4, 14, 5, 5, 5, 6, 14, 4, 7, 5, 3, 6, 12, 5, 5, 13, 12, 14, 7, 8, 4, 3, 2, 1, 1, 1, 7, 9, 14, 8, 8, 5, 6, 8, 3, 6, 12, 8, 7, 4, 10, 14, 4, 14, 14, 1, 10, 14, 5, 1, 3, 5, 1, 4, 5, 0, 1, 12, 8, 14, 3, 5, 5, 7, 7, 14, 14, 7, 9, 13, 7, 7, 3, 5, 12, 7, 5, 14, 2, 4, 1, 6, 8, 8, 7, 14, 10, 9, 14, 14, 0, 7, 14, 3, 7, 10, 3, 4, 14, 13, 6, 3, 1, 14, 5, 1, 12, 6, 5, 8, 13, 0, 0, 6, 0, 14, 13, 10, 14, 7, 14, 14, 1, 4, 7, 1, 14, 5, 4, 7, 7, 11, 4, 7, 13, 6, 14, 3, 5, 5, 3, 14, 14, 7, 14, 14, 4, 4, 12, 1, 0, 5, 3, 3, 7, 7, 8, 5, 5, 14, 13, 8, 5, 14, 14, 5, 5, 5, 12, 1, 5, 5, 5, 5, 4, 4, 5, 7, 5, 10, 5, 3, 14, 11, 5, 1, 7, 7, 14, 6, 13, 6, 5, 8, 8, 14, 2, 3, 3, 7, 14, 8, 14, 4, 5, 14, 14, 4, 2, 0, 14, 10, 1, 0, 8, 13, 3, 14, 1, 7, 8, 12, 1, 14, 14, 0, 7, 3, 7, 4, 3, 14, 14, 0, 14, 12, 4, 7, 14, 5, 3, 2, 3, 1, 5, 3, 7, 3, 14, 14, 12, 3, 12, 12, 5, 1, 7, 5, 0, 5, 5, 0, 7, 2, 5, 10, 0, 6, 12, 8, 5, 2, 1, 5, 14, 1, 5, 7, 0, 5, 1, 12, 14, 12, 9, 0, 7, 12, 14, 3, 14, 5, 14, 0, 3, 7, 9, 8, 7, 5, 3, 5, 7, 8, 3, 7, 14, 9, 7, 7, 12, 1, 0, 0, 2, 9, 7, 5, 3, 7, 0, 14, 4, 5, 5, 7, 7, 11, 4, 5, 0, 5, 13, 5, 12, 7, 13, 1, 1, 3, 2, 0, 3, 14, 7, 5, 2, 5, 12, 14, 5, 12, 14, 0, 5, 7, 12, 14, 6, 2, 0, 5, 4, 5, 10, 14, 3, 2, 5, 5, 5, 14, 14, 5, 9, 13, 3, 14, 0, 4, 14, 5, 1, 13, 5, 3, 5, 3, 7, 3, 7, 7, 5, 12, 8, 4, 0, 14, 5, 3, 14, 8, 0, 12, 8, 8, 3, 4, 4, 1, 7, 5, 14, 8, 4, 7, 7, 2, 1, 1, 6, 0, 8, 3, 5, 6, 1, 5, 11, 5, 14, 3, 1, 0, 5, 3, 5, 7, 14, 8, 5, 14, 2, 5, 4, 5, 4, 5, 8, 7, 8, 7, 1, 6, 1, 9, 12, 6, 5, 5, 1, 3, 14, 3, 7, 1, 6, 7, 14, 5, 12, 14, 0, 5, 12, 5, 1, 12, 7, 10, 14, 0, 1, 1, 11, 9, 10, 14, 14, 5, 3, 14, 13, 8, 0, 4, 14, 9, 3, 14, 9, 7, 0, 4, 9, 4, 1, 7, 7, 7, 7, 14, 6, 1, 14, 14, 3, 7, 14, 0, 13, 5, 1, 4, 3, 14, 0, 6, 5, 3, 2, 12, 7, 14, 4, 7, 5, 7, 14, 14, 1, 14, 14, 12, 0, 5, 2, 1, 1, 4, 3, 7, 6, 14, 3, 7, 14, 9, 9, 1, 5, 7, 3, 5, 14, 3, 4, 5, 5, 7, 5, 9, 4, 3, 4, 1, 6, 5, 5, 5, 1, 3, 6, 14, 6, 5, 3, 5, 7, 4, 4, 0, 14, 3, 5, 5, 14, 4, 9, 13, 1, 8, 8, 7, 3, 4, 5, 9, 1, 8, 14, 5, 6, 7, 14, 14, 12, 7, 5, 5, 3, 6, 6, 9, 4, 14, 7, 0, 5, 3, 5, 5, 12, 5, 7, 5, 5, 14, 7, 3, 0, 5, 5, 0, 5, 8, 14, 5, 3, 6, 5, 0, 7, 3, 14, 14, 14, 5, 5, 4, 6, 13, 5, 6, 6, 6, 5, 2, 6, 12, 9, 12, 14, 1, 7, 1, 7, 8, 12, 0, 6, 3, 5, 7, 5, 5, 3, 8, 8, 7, 7, 6, 5, 0, 5, 9, 14, 4, 14, 13, 13, 5, 5, 14, 5, 5, 9, 5, 14, 8, 7, 3, 7, 4, 0, 5, 5, 14, 8, 4, 14, 7, 4, 0, 0, 6, 4, 12, 9, 9, 3, 9, 4, 5, 14, 6, 6, 5, 9, 7, 2, 9, 12, 4, 7, 5, 12, 14, 14, 3, 14, 3, 6, 9, 5, 14, 9, 4, 13, 5, 14, 12, 5, 12, 4, 14, 2, 14, 12, 3, 14, 3, 2, 5, 5, 7, 12, 5, 3, 5, 1, 14, 7, 14, 1, 3, 7, 0, 5, 5, 3, 9, 3, 1, 12, 14, 3, 14, 3, 5, 3, 6, 14, 7, 7, 9, 12, 3, 5, 7, 1, 14, 4, 14, 6, 14, 13, 14, 8, 7, 8, 12, 6, 7, 5, 5, 14, 3, 5, 6, 14, 4, 6, 7, 1, 1, 13, 7, 4, 5, 5, 14, 3, 7, 5, 5, 3, 3, 7, 8, 14, 7, 5, 14, 0, 3, 7, 6, 6, 5, 1, 14, 6, 5, 3, 14, 2, 4, 1, 5, 12, 14, 0, 1, 14, 12, 7, 7, 4, 4, 7, 8, 1, 5, 13, 14, 12, 12, 4, 1, 5, 6, 12, 11, 3, 14, 5, 7, 6, 5, 0, 10, 3, 1, 14, 7, 14, 11, 7, 0, 6, 7, 4, 14, 3, 9, 1, 2, 7, 6, 4, 7, 8, 9, 3, 7, 14, 14, 14, 3, 6, 7, 7, 6, 7, 0, 1, 5, 14, 1, 3, 12, 6, 3, 5, 12, 12, 2, 8, 12, 7, 7, 8, 12, 5, 7, 6, 9, 3, 12, 14, 14, 5, 0, 5, 2, 5, 3, 5, 9, 13, 5, 3, 11, 5, 4, 5, 1, 11, 4, 5, 13, 5, 7, 7, 8, 10, 7, 4, 8, 7, 4, 12, 0, 12, 0, 5, 5, 9, 5, 5, 5, 5, 8, 8, 14, 5, 8, 4, 3, 3, 1, 8, 6, 12, 4, 9, 4, 14, 6, 7, 5, 6, 14, 3, 5, 9, 5, 14, 3, 6, 14, 7, 9, 5, 7, 5, 0, 3, 3, 14, 8, 14, 6, 12, 5, 9, 14, 6, 14, 13, 14, 3, 14, 12, 14, 0, 4, 0, 4, 0, 7, 5, 8, 7, 9, 5, 14, 1, 5, 14, 6, 5, 6, 12, 14, 0, 8, 13, 12, 1, 9, 6, 5, 14, 10, 1, 1, 14, 8, 0, 0, 4, 14, 0, 0, 1, 5, 1, 0, 4, 5, 0, 9, 8, 0, 1, 14, 7, 4, 10, 0, 7, 3, 3, 14, 5, 11, 14, 9, 1, 5, 9, 3, 12, 6, 14, 1, 6, 14, 5, 7, 0, 4, 5, 5, 14, 6, 14, 6, 6, 14, 0, 14, 3, 1, 0, 1, 2, 4, 5, 0, 9, 14, 7, 5, 0, 3, 6, 2, 5, 14, 9, 3, 14, 6, 4, 5, 5, 11, 8, 13, 5, 12, 5, 3, 5, 12, 5, 7, 5, 14, 3, 3, 12, 14, 4, 14, 14, 9, 5, 1, 0, 7, 11, 0, 2, 4, 14, 2, 1, 7, 6, 8, 7, 3, 14, 14, 14, 9, 14, 1, 4, 5, 5, 14, 5, 14, 6, 0, 6, 8, 8, 14, 1, 6, 0, 0, 9, 2, 6, 6, 6, 0, 3, 9, 5, 5, 0, 6, 0, 1, 11, 12, 14, 5, 5, 6, 14, 1, 11, 14, 3, 3, 7, 14, 5, 7, 5, 14, 14, 7, 5, 14, 7, 0, 13, 5, 5, 5, 9, 1, 5, 5, 9, 13, 7, 5, 1, 4, 4, 14, 8, 5, 4, 10, 11, 0, 4, 0, 8, 14, 14, 4, 6, 5, 7, 4, 2, 9, 6, 8, 7, 4, 14, 5, 7, 7, 4, 5, 5, 14, 9, 4, 8, 0, 1, 5, 6, 1, 3, 14, 1, 1, 11, 8, 8, 14, 14, 14, 0, 8, 0, 13, 7, 8, 5, 13, 12, 14, 7, 9, 4, 13, 0, 13, 3, 3, 5, 5, 8, 7, 6, 12, 4, 6, 14, 3, 4, 14, 1, 0, 1, 14, 5, 8, 4, 5, 12, 14, 1, 4, 4, 9, 9, 2, 7, 7, 14, 7, 0, 5, 11, 4, 7, 0, 6, 14, 5, 14, 7, 14, 4, 2, 14, 4, 0, 14, 5, 12, 1, 7, 10, 4, 8, 7, 14, 14, 1, 0, 14, 14, 5, 2, 5, 3, 9, 12, 2, 5, 7, 6, 0, 14, 14, 1, 5, 5, 14, 4, 5, 1, 2, 3, 11, 3, 4, 5, 5, 6, 3, 6, 0, 5, 6, 1, 6, 11, 5, 3, 9, 6, 12, 14, 5, 12, 6, 1, 4, 8, 6, 9, 3, 13, 3, 12, 14, 5, 4, 2, 12, 11, 5, 8, 3, 5, 1, 8, 0, 5, 3, 7, 14, 7, 1, 14, 0, 7, 14, 3, 5, 5, 7, 12, 3, 5, 6, 6, 12, 5, 8, 6, 12, 5, 14, 6, 14, 12, 10, 4, 7, 5, 5, 5, 0, 4, 6, 5, 6, 0, 7, 5, 7, 7, 5, 7, 3, 1, 14, 4, 3, 0, 7, 3, 5, 8, 12, 1, 7, 5, 0, 1, 12, 6, 14, 4, 6, 12, 14, 7, 5, 5, 9, 5, 3, 3, 12, 8, 7, 14, 14, 8, 14, 11, 3, 14, 6, 5, 13, 1, 14, 7, 10, 5, 6, 9, 1, 5, 14, 5, 7, 12, 9, 14, 1, 5, 0, 5, 6, 1, 14, 14, 5, 14, 13, 4, 13, 9, 6, 5, 1, 1, 5, 5, 5, 14, 14, 14, 3, 0, 4, 5, 7, 5, 4, 1, 12, 5, 5, 13, 1, 3, 12, 4, 5, 7, 6, 6, 3, 3, 14, 14, 7, 8, 1, 9, 4, 6, 7, 0, 14, 5, 3, 14, 2, 14, 5, 5, 14, 3, 5, 14, 3, 5, 14, 14, 14, 5, 4, 5, 13, 7, 14, 6, 14, 0, 5, 1, 5, 14, 1, 6, 12, 7, 3, 14, 1, 5, 4, 4, 8, 14, 3, 7, 4, 14, 14, 9, 1, 14, 1, 14, 8, 6, 1, 3, 7, 0, 14, 7, 5, 12, 7, 14, 5, 0, 14, 9, 14, 6, 14, 14, 9, 4, 5, 5, 6, 3, 5, 1, 5, 5, 5, 0, 5, 14, 5, 14, 5, 13, 3, 7, 9, 3, 5, 7, 0, 6, 9, 6, 7, 0, 5, 0, 0, 8, 1, 5, 6, 14, 4, 13, 5, 5, 14, 4, 3, 9, 12, 14, 7, 7, 14, 7, 14, 7, 5, 3, 8, 6, 0, 3, 14, 14, 5, 3, 7, 7, 9, 5, 14, 12, 10, 14, 5, 14, 14, 6, 7, 4, 5, 8, 7, 14, 5, 5, 5, 5, 14, 12, 14, 6, 5, 7, 4, 3, 1, 5, 6, 9, 5, 3, 12, 2, 14, 5, 14, 14, 14, 11, 14, 7, 14, 4, 1, 7, 5, 6, 3, 6, 5, 7, 5, 3, 14, 4, 12, 14, 8, 7, 12, 1, 6, 1, 1, 5, 3, 1, 4, 5, 2, 3, 14, 4, 0, 3, 13, 6, 13, 0, 0, 7, 5, 8, 14, 13, 7, 13, 8, 6, 8, 14, 4, 14, 10, 14, 5, 5, 9, 12, 7, 14, 10, 3, 4, 14, 5, 4, 14, 10, 5, 7, 7, 3, 5, 12, 0, 2, 12, 3, 5, 9, 14, 0, 14, 4, 2, 7, 4, 12, 12, 5, 9, 7, 5, 3, 5, 7, 7, 14, 5, 14, 5, 4, 0, 7, 14, 13, 13, 6, 5, 5, 6, 4, 1, 14, 5, 1, 7, 7, 6, 5, 5, 4, 0, 11, 7, 4, 14, 14, 14, 5, 6, 14, 6, 3, 5, 4, 9, 9, 6, 7, 3, 1, 7, 5, 6, 3, 14, 7, 12, 5, 4, 14, 4, 9, 14, 5, 6, 4, 6, 0, 7, 12, 7, 4, 6, 1, 5, 5, 7, 8, 14, 3, 9, 6, 3, 9, 12, 14, 2, 12, 3, 14, 0, 12, 14, 8, 13, 3, 8, 12, 4, 5, 5, 3, 4, 5, 4, 7, 3, 7, 9, 9, 14, 5, 5, 9, 3, 14, 5, 5, 13, 6, 9, 4, 6, 8, 7, 14, 4, 14, 14, 6, 4, 7, 1, 5, 3, 1, 0, 9, 5, 3, 5, 8, 14, 2, 12, 10, 7, 5, 1, 13, 7, 9, 11, 3, 6, 3, 5, 1, 4, 7, 14, 5, 0, 14, 1, 1, 7, 7, 2, 4, 5, 9, 6, 7, 14, 12, 14, 5, 8, 5, 7, 7, 7, 14, 7, 1, 8, 12, 7, 7, 5, 7, 1, 14, 7, 13, 5, 4, 7, 3, 9, 13, 5, 0, 3, 6, 1, 12, 14, 14, 12, 4, 5, 4, 5, 3, 1, 11, 0, 7, 1, 0, 7, 14, 14, 7, 3, 7, 8, 14, 4, 1, 13, 4, 7, 14, 7, 7, 6, 5, 12, 7, 9, 3, 8, 9, 14, 3, 11, 14, 14, 6, 1, 14, 2, 2, 3, 4, 14, 3, 11, 1, 2, 13, 7, 0, 9, 7, 1, 7, 7, 12, 14, 3, 6, 2, 5, 3, 14, 5, 4, 2, 6, 5, 7, 5, 9, 0, 0, 1, 14, 3, 3, 1, 13, 5, 12, 5, 12, 14, 5, 14, 9, 14, 0, 4, 6, 13, 2, 1, 14, 9, 4, 1, 9, 5, 7, 13, 3, 1, 8, 3, 12, 1, 3, 2, 3, 7, 14, 14, 0, 5, 7, 14, 6, 6, 6, 13, 12, 7, 5, 4, 9, 0, 0, 3, 8, 6, 5, 3, 5, 5, 9, 13, 4, 0, 14, 7, 9, 14, 1, 3, 11, 8, 14, 5, 5, 5, 3, 6, 5, 1, 0, 8, 4, 6, 8, 14, 8, 14, 9, 13, 6, 3, 3, 8, 14, 1, 14, 0, 3, 8, 5, 4, 14, 7, 5, 12, 14, 5, 5, 6, 1, 5, 7, 14, 14, 5, 5, 7, 14, 9, 7, 7, 14, 5, 14, 12, 9, 5, 9, 9, 7, 7, 1, 5, 2, 4, 6, 5, 5, 5, 8, 14, 7, 6, 14, 9, 6, 5, 12, 12, 7, 4, 12, 14, 0, 6, 7, 5, 7, 7, 14, 12, 14, 7, 5, 6, 12, 3, 0, 5, 1, 0, 2, 5, 9, 14, 14, 7, 13, 6, 14, 4, 14, 9, 14, 5, 14, 3, 0, 7, 5, 2, 5, 9, 1, 0, 12, 7, 14, 0, 14, 0, 5, 8, 11, 10, 0, 14, 14, 13, 5, 5, 12, 2, 3, 7, 4, 4, 9, 5, 8, 7, 14, 3, 14, 5, 5, 5, 14, 5, 12, 5, 7, 14, 12, 8, 7, 1, 7, 5, 7, 4, 7, 14, 14, 4, 3, 5, 5, 14, 3, 1, 1, 0, 14, 14, 14, 1, 12, 5, 1, 6, 5, 5, 3, 1, 5, 4, 14, 7, 1, 14, 0, 5, 5, 6, 5, 1, 7, 14, 14, 6, 7, 0, 7, 0, 14, 12, 5, 1, 6, 5, 14, 7, 0, 0, 14, 5, 6, 1, 7, 7, 6, 5, 5, 1, 7, 5, 7, 3, 0, 13, 7, 11, 1, 7, 5, 5, 6, 5, 6, 5, 8, 14, 0, 4, 7, 14, 9, 7, 0, 0, 3, 5, 3, 13, 10, 14, 14, 14, 8, 3, 5, 3, 1, 6, 4, 0, 0, 5, 5, 3, 7, 13, 5, 1, 14, 0, 14, 3, 14, 8, 1, 7, 5, 6, 3, 5, 7, 5, 7, 14, 6, 8, 14, 7, 5, 6, 5, 14, 3, 14, 11, 1, 12, 7, 5, 14, 8, 14, 3, 4, 5, 6, 14, 14, 14, 3, 7, 14, 3, 1, 12, 14, 5, 7, 10, 3, 9, 5, 5, 5, 5, 14, 5, 7, 14, 14, 12, 1, 14, 7, 7, 5, 7, 9, 4, 5, 2, 0, 14, 3, 5, 14, 3, 3, 5, 12, 5, 14, 4, 7, 10, 3, 4, 8, 1, 2, 7, 14, 9, 11, 9, 1, 9, 8, 7, 14, 4, 7, 14, 3, 14, 9, 5, 5, 1, 5, 14, 7, 13, 14, 14, 14, 4, 5, 10, 9, 5, 8, 14, 3, 9, 7, 14, 7, 9, 8, 6, 7, 5, 0, 1, 7, 0, 14, 7, 4, 7, 5, 12, 3, 14, 7, 5, 14, 14, 7, 8, 0, 13, 7, 14, 14, 6, 14, 3, 3, 7, 7, 0, 7, 6, 14, 5, 7, 4, 0, 7, 4, 2, 14, 8, 5, 0, 7, 9, 1, 14, 5, 14, 14, 7, 3, 14, 6, 14, 6, 9, 2, 14, 1, 1, 14, 5, 5, 7, 14, 0, 3, 14, 5, 7, 6, 14, 3, 5, 5, 4, 8, 1, 5, 3, 5, 7, 1, 3, 7, 5, 0, 6, 14, 5, 2, 6, 13, 5, 5, 11, 14, 5, 12, 6, 5, 14, 2, 7, 4, 7, 14, 1, 8, 7, 3, 5, 5, 1, 5, 0, 13, 1, 9, 5, 5, 7, 9, 12, 5, 5, 3, 5, 14, 3, 14, 1, 14, 1, 7, 4, 13, 6, 1, 7, 8, 1, 7, 5, 1, 3, 5, 0, 3, 2, 5, 14, 5, 3, 5, 6, 1, 3, 14, 0, 4, 3, 4, 14, 11, 1, 0, 9, 1, 6, 14, 8, 14, 6, 14, 9, 5, 4, 0, 4, 7, 1, 5, 5, 3, 4, 14, 5, 14, 6, 14, 0, 6, 14, 0, 7, 6, 2, 7, 4, 7, 13, 12, 1, 3, 1, 9, 7, 3, 5, 5, 9, 7, 2, 5, 5, 3, 3, 14, 12, 12, 14, 0, 5, 14, 14, 14, 14, 9, 7, 8, 6, 5, 13, 7, 5, 12, 14, 5, 14, 7, 6, 9, 2, 1, 4, 8, 4, 2, 5, 9, 7, 5, 3, 2, 1, 5, 14, 13, 12, 5, 9, 1, 7, 2, 6, 8, 6, 3, 5, 1, 14, 14, 7, 8, 8, 4, 0, 14, 5, 5, 1, 3, 14, 1, 0, 4, 6, 1, 8, 4, 7, 3, 3, 6, 14, 7, 5, 8, 7, 5, 10, 8, 10, 3, 6, 5, 8, 7, 0, 3, 3, 7, 14, 5, 9, 4, 13, 5, 3, 14, 6, 14, 7, 1, 14, 8, 5, 5, 14, 0, 3, 4, 3, 9, 8, 9, 1, 5, 6, 4, 9, 13, 8, 9, 6, 5, 7, 4, 8, 0, 7, 3, 7, 7, 8, 7, 7, 14, 14, 1, 3, 14, 12, 12, 7, 1, 13, 7, 14, 2, 5, 14, 5, 7, 5, 14, 5, 4, 2, 5, 14, 7, 1, 14, 6, 5, 2, 6, 9, 4, 13, 14, 5, 3, 7, 0, 3, 3, 14, 14, 5, 5, 1, 2, 7, 4, 12, 8, 1, 3, 7, 3, 14, 0, 14, 13, 5, 4, 5, 5, 14, 12, 7, 6, 5, 5, 13, 8, 5, 14, 14, 14, 13, 1, 14, 4, 3, 14, 5, 5, 6, 9, 12, 7, 3, 5, 1, 12, 14, 5, 0, 14, 7, 4, 8, 12, 1, 14, 0, 7, 0, 1, 13, 4, 14, 5, 7, 5, 1, 3, 5, 1, 12, 5, 10, 8, 12, 0, 1, 14, 5, 14, 4, 0, 7, 5, 7, 12, 3, 6, 7, 3, 7, 9, 8, 5, 3, 1, 14, 3, 2, 4, 5, 7, 5, 8, 1, 3, 4, 5, 14, 0, 12, 14, 14, 7, 3, 5, 5, 0, 9, 12, 8, 8, 14, 5, 13, 9, 4, 5, 3, 9, 5, 14, 9, 14, 0, 0, 4, 5, 14, 5, 0, 8, 7, 3, 14, 3, 7, 5, 1, 3, 0, 8, 5, 5, 7, 3, 14, 7, 0, 5, 10, 1, 14, 8, 14, 3, 5, 5, 14, 5, 4, 13, 8, 6, 7, 3, 6, 1, 14, 5, 13, 5, 4, 5, 14, 4, 3, 5, 14, 10, 11, 8, 7, 13, 7, 4, 4, 14, 14, 4, 6, 3, 5, 5, 0, 13, 5, 14, 12, 5, 6, 0, 5, 4, 7, 7, 5, 1, 3, 3, 9, 3, 3, 14, 12, 13, 2, 5, 14, 13, 3, 13, 7, 0, 14, 7, 9, 12, 5, 5, 3, 7, 7, 10, 0, 14, 4, 4, 5, 14, 2, 3, 9, 6, 11, 5, 14, 1, 8, 8, 6, 7, 7, 5, 3, 3, 14, 5, 7, 7, 3, 14, 5, 7, 7, 6, 13, 3, 3, 7, 6, 8, 7, 7, 3, 5, 14, 6, 7, 7, 12, 12, 4, 6, 14, 8, 0, 5, 7, 1, 12, 8, 4, 7, 1, 0, 5, 12, 5, 3, 5, 3, 1, 5, 14, 3, 3, 7, 3, 5, 3, 5, 6, 7, 12, 3, 14, 5, 14, 7, 12, 7, 5, 14, 1, 5, 14, 5, 14, 14, 8, 12, 13, 7, 6, 5, 5, 5, 5, 5, 10, 1, 7, 0, 5, 10, 5, 1, 2, 14, 6, 3, 0, 4, 5, 14, 4, 7, 1, 14, 3, 5, 4, 5, 6, 7, 10, 7, 5, 14, 10, 5, 14, 13, 11, 14, 6, 9, 5, 1, 3, 5, 6, 5, 14, 13, 7, 1, 12, 7, 14, 7, 6, 6, 0, 1, 12, 3, 8, 6, 3, 1, 5, 14, 4, 5, 3, 14, 7, 3, 14, 3, 13, 1, 3, 12, 1, 6, 0, 8, 7, 3, 14, 0, 5, 14, 14, 14, 5, 3, 5, 14, 3, 13, 1, 8, 8, 12, 4, 4, 12, 8, 5, 5, 7, 1, 5, 3, 4, 9, 12, 0, 6, 8, 5, 14, 7, 4, 14, 14, 14, 12, 7, 8, 14, 0, 14, 12, 4, 6, 6, 3, 7, 14, 11, 6, 5, 7, 12, 5, 5, 3, 12, 5, 14, 14, 3, 8, 5, 7, 8, 5, 12, 14, 8, 14, 1, 5, 14, 14, 7, 4, 0, 5, 7, 7, 5, 3, 3, 0, 7, 14, 1, 3, 4, 3, 14, 7, 5, 6, 5, 14, 4, 14, 7, 14, 3, 4, 1, 2, 0, 5, 4, 7, 0, 12, 12, 6, 7, 8, 5, 14, 6, 13, 6, 6, 4, 4, 14, 14, 5, 8, 12, 4, 10, 5, 6, 0, 14, 6, 13, 10, 12, 3, 1, 14, 14, 6, 13, 14, 4, 14, 0, 3, 0, 4, 5, 9, 8, 7, 5, 8, 5, 9, 11, 14, 14, 14, 13, 14, 5, 14, 7, 8, 6, 9, 5, 12, 9, 7, 13, 2, 14, 14, 9, 14, 1, 6, 3, 5, 14, 0, 6, 0, 5, 1, 14, 9, 6, 13, 4, 14, 1, 7, 8, 7, 14, 5, 7, 14, 3, 3, 5, 5, 1, 4, 5, 12, 14, 5, 14, 0, 4, 5, 3, 2, 6, 14, 5, 1, 14, 9, 12, 6, 5, 5, 1, 5, 3, 8, 0, 1, 14, 4, 4, 7, 12, 0, 5, 6, 1, 5, 7, 8, 7, 12, 1, 5, 12, 14, 6, 14, 5, 12, 5, 5, 6, 7, 0, 5, 5, 12, 6, 9, 8, 2, 14, 3, 3, 9, 12, 5, 7, 7, 14, 5, 4, 3, 5, 12, 7, 4, 5, 1, 4, 14, 14, 3, 4, 7, 8, 10, 7, 3, 3, 5, 7, 5, 0, 5, 1, 12, 0, 9, 7, 14, 2, 7, 5, 6, 6, 1, 4, 6, 4, 5, 7, 12, 5, 5, 8, 1, 5, 3, 14, 5, 12, 6, 14, 5, 13, 12, 14, 7, 7, 5, 14, 4, 6, 1, 1, 2, 4, 14, 14, 5, 14, 6, 1, 5, 2, 7, 6, 2, 3, 4, 8, 7, 5, 14, 6, 0, 3, 9, 7, 7, 9, 9, 14, 6, 9, 4, 8, 5, 7, 1, 0, 7, 1, 8, 1, 4, 5, 6, 8, 1, 1, 8, 7, 4, 12, 7, 14, 0, 7, 5, 13, 9, 7, 5, 3, 11, 1, 6, 14, 0, 7, 7, 6, 9, 7, 7, 7, 5, 3, 5, 7, 9, 4, 5, 6, 12, 6, 9, 5, 2, 3, 8, 4, 1, 2, 14, 4, 4, 14, 0, 1, 14, 13, 5, 7, 4, 7, 3, 6, 1, 0, 4, 7, 13, 8, 14, 4, 14, 5, 6, 2, 10, 7, 0, 13, 3, 5, 6, 9, 14, 1, 5, 5, 3, 14, 0, 5, 8, 12, 7, 8, 5, 7, 5, 5, 3, 7, 11, 0, 5, 8, 1, 1, 6, 5, 1, 7, 14, 0, 3, 5, 5, 4, 1, 3, 14, 6, 3, 12, 5, 12, 5, 5, 6, 13, 7, 7, 7, 14, 7, 3, 6, 6, 5, 9, 1, 3, 5, 1, 14, 6, 0, 7, 7, 12, 4, 14, 14, 7, 14, 0, 8, 0, 13, 10, 4, 5, 14, 4, 8, 7, 7, 7, 3, 5, 7, 7, 4, 9, 3, 5, 6, 5, 14, 5, 14, 5, 5, 12, 1, 12, 9, 14, 3, 5, 14, 6, 7, 7, 7, 2, 14, 5, 1, 7, 1, 5, 14, 7, 6, 14, 5, 0, 7, 3, 14, 13, 0, 0, 5, 7, 7, 2, 7, 7, 3, 3, 1, 7, 12, 4, 4, 14, 3, 4, 3, 14, 0, 7, 1, 1, 14, 13, 6, 7, 1, 5, 0, 0, 5, 7, 11, 1, 8, 14, 14, 8, 6, 1, 7, 14, 3, 11, 3, 5, 5, 14, 4, 3, 1, 3, 1, 5, 6, 14, 7, 13, 6, 9, 4, 7, 6, 4, 14, 5, 3, 7, 14, 3, 5, 1, 6, 6, 9, 3, 14, 14, 4, 14, 1, 14, 6, 10, 5, 5, 5, 14, 7, 8, 7, 7, 3, 1, 6, 5, 1, 7, 13, 3, 5, 8, 9, 4, 5, 2, 3, 7, 7, 6, 14, 14, 14, 1, 6, 4, 4, 13, 14, 11, 6, 5, 1, 14, 4, 0, 4, 6, 5, 4, 9, 14, 4, 14, 6, 14, 3, 8, 8, 4, 2, 4, 3, 8, 9, 0, 5, 6, 5, 0, 14, 12, 7, 4, 6, 6, 7, 7, 4, 13, 4, 0, 7, 14, 5, 5, 1, 13, 6, 12, 9, 5, 3, 6, 7, 6, 0, 5, 8, 3, 14, 14, 1, 9, 1, 4, 3, 14, 5, 3, 7, 14, 9, 1, 8, 14, 4, 3, 7, 12, 0, 6, 8, 5, 9, 3, 6, 14, 3, 14, 5, 6, 3, 6, 5, 7, 5, 14, 7, 7, 14, 13, 12, 0, 5, 5, 7, 13, 7, 7, 14, 5, 4, 5, 0, 14, 5, 1, 12, 1, 5, 5, 4, 8, 5, 13, 5, 6, 3, 14, 3, 7, 4, 14, 8, 13, 6, 4, 14, 14, 3, 4, 7, 8, 1, 9, 2, 7, 5, 12, 1, 0, 9, 7, 5, 14, 3, 12, 5, 4, 6, 5, 7, 3, 3, 6, 4, 10, 5, 14, 14, 14, 7, 14, 5, 12, 4, 5, 7, 4, 5, 7, 5, 5, 5, 12, 1, 12, 0, 2, 0, 5, 12, 5, 6, 4, 1, 5, 0, 7, 7, 14, 14, 14, 8, 5, 14, 1, 5, 0, 6, 5, 7, 13, 14, 4, 8, 14, 8, 13, 14, 4, 3, 14, 8, 3, 6, 14, 14, 6, 9, 5, 6, 14, 1, 4, 14, 1, 7, 6, 14, 5, 12, 9, 0, 6, 1, 5, 5, 1, 4, 5, 7, 0, 11, 1, 7, 5, 10, 5, 14, 7, 7, 7, 4, 7, 4, 14, 4, 5, 7, 7, 8, 8, 2, 7, 6, 7, 5, 7, 0, 14, 5, 0, 13, 14, 1, 3, 12, 13, 5, 14, 5, 5, 6, 7, 14, 8, 7, 14, 14, 14, 5, 6, 7, 7, 1, 14, 8, 1, 6, 5, 7, 3, 3, 0, 3, 3, 14, 1, 5, 5, 13, 6, 6, 6, 5, 6, 6, 12, 0, 5, 12, 1, 2, 9, 7, 7, 14, 9, 4, 14, 7, 3, 5, 14, 14, 14, 7, 14, 9, 5, 7, 5, 12, 5, 3, 3, 13, 12, 5, 4, 13, 3, 5, 4, 3, 14, 4, 8, 7, 14, 14, 9, 14, 7, 3, 8, 6, 0, 5, 13, 4, 8, 14, 6, 7, 13, 5, 3, 4, 0, 2, 0, 3, 5, 1, 11, 12, 12, 14, 11, 14, 5, 9, 14, 0, 8, 3, 5, 6, 14, 3, 7, 5, 4, 14, 3, 12, 4, 10, 7, 1, 4, 5, 9, 5, 6, 7, 5, 14, 5, 8, 8, 7, 7, 4, 0, 7, 5, 7, 6, 12, 7, 4, 9, 5, 1, 2, 12, 6, 6, 5, 3, 6, 7, 14, 9, 14, 4, 3, 5, 0, 14, 14, 14, 7, 1, 1, 3, 3, 14, 8, 9, 10, 6, 5, 14, 4, 12, 12, 3, 13, 14, 5, 2, 3, 4, 5, 5, 9, 3, 2, 5, 7, 9, 14, 5, 1, 1, 14, 5, 8, 12, 5, 3, 7, 6, 14, 5, 5, 11, 8, 14, 14, 12, 3, 6, 3, 7, 9, 10, 3, 5, 4, 12, 3, 5, 6, 5, 5, 4, 0, 8, 3, 7, 3, 7, 7, 6, 8, 8, 7, 5, 4, 14, 14, 13, 3, 14, 3, 1, 13, 5, 6, 7, 5, 12, 10, 5, 14, 6, 5, 6, 5, 5, 14, 3, 6, 14, 2, 4, 1, 5, 6, 4, 1, 3, 1, 1, 3, 3, 7, 12, 5, 13, 7, 3, 12, 7, 7, 5, 9, 9, 5, 14, 7, 14, 11, 4, 13, 14, 5, 8, 9, 3, 12, 4, 1, 7, 5, 11, 2, 5, 14, 13, 14, 4, 11, 14, 3, 4, 7, 6, 0, 3, 11, 1, 5, 1, 14, 5, 0, 9, 4, 7, 5, 14, 14, 1, 14, 10, 14, 14, 12, 0, 5, 3, 1, 3, 12, 14, 5, 0, 5, 8, 0, 3, 13, 14, 0, 5, 7, 8, 1, 5, 1, 9, 4, 13, 2, 7, 1, 2, 11, 3, 6, 5, 6, 7, 6, 14, 3, 7, 1, 7, 5, 5, 8, 7, 4, 4, 6, 7, 1, 14, 5, 14, 14, 7, 14, 5, 0, 14, 5, 6, 9, 6, 14, 14, 14, 8, 7, 3, 14, 7, 9, 0, 3, 9, 14, 0, 3, 9, 5, 14, 4, 5, 5, 5, 14, 12, 5, 6, 3, 2, 5, 6, 7, 4, 4, 5, 4, 4, 6, 14, 12, 3, 14, 4, 2, 4, 6, 7, 8, 14, 6, 8, 5, 0, 14, 3, 14, 14, 12, 14, 1, 9, 6, 3, 8, 0, 8, 12, 4, 7, 7, 10, 14, 9, 14, 14, 1, 4, 3, 7, 14, 5, 7, 5, 1, 7, 8, 14, 13, 5, 14, 1, 0, 14, 14, 13, 3, 5, 1, 4, 6, 5, 3, 7, 14, 5, 9, 6, 5, 5, 5, 12, 12, 12, 7, 6, 12, 5, 1, 3, 7, 14, 8, 9, 4, 13, 14, 4, 4, 3, 11, 4, 4, 9, 6, 7, 5, 3, 12, 1, 3, 7, 4, 0, 2, 7, 13, 14, 9, 1, 5, 5, 5, 4, 14, 1, 8, 6, 3, 0, 6, 13, 4, 5, 0, 14, 14, 1, 3, 6, 0, 5, 5, 5, 3, 10, 14, 14, 0, 6, 1, 3, 14, 5, 0, 4, 3, 14, 7, 5, 6, 9, 13, 5, 7, 5, 14, 14, 3, 4, 14, 8, 4, 4, 5, 13, 13, 14, 14, 1, 3, 5, 7, 5, 7, 0, 0, 8, 12, 5, 12, 13, 5, 9, 5, 1, 1, 5, 4, 12, 5, 11, 6, 3, 1, 7, 1, 7, 7, 1, 8, 0, 0, 3, 14, 9, 14, 1, 5, 6, 1, 0, 1, 5, 5, 14, 6, 14, 13, 13, 8, 7, 7, 7, 4, 9, 14, 6, 14, 4, 6, 1, 5, 14, 14, 3, 12, 11, 7, 7, 5, 12, 9, 12, 5, 6, 13, 12, 6, 7, 14, 6, 1, 5, 3, 9, 2, 5, 9, 8, 13, 5, 6, 7, 0, 9, 0, 6, 8, 1, 14, 14, 5, 8, 14, 11, 13, 3, 1, 6, 0, 9, 8, 5, 14, 7, 3, 14, 7, 3, 5, 8, 5, 5, 13, 0, 7, 13, 9, 5, 14, 7, 2, 14, 14, 9, 5, 0, 5, 8, 14, 4, 1, 8, 9, 12, 1, 0, 6, 0, 5, 9, 0, 5, 6, 0, 3, 1, 5, 5, 6, 13, 14, 14, 14, 14, 3, 5, 7, 4, 14, 4, 7, 5, 5, 5, 14, 7, 14, 3, 5, 5, 1, 14, 14, 14, 1, 0, 5, 1, 5, 5, 14, 4, 3, 5, 5, 3, 12, 13, 6, 6, 14, 7, 6, 1, 14, 1, 12, 12, 5, 5, 3, 2, 2, 14, 8, 4, 5, 5, 6, 4, 14, 4, 8, 1, 0, 5, 4, 7, 12, 14, 5, 8, 5, 0, 6, 7, 5, 12, 12, 5, 5, 7, 14, 5, 9, 3, 13, 14, 14, 12, 10, 3, 8, 8, 5, 4, 4, 6, 4, 11, 4, 9, 9, 5, 7, 0, 0, 14, 5, 0, 3, 5, 14, 7, 6, 14, 14, 7, 5, 14, 7, 2, 5, 4, 4, 3, 12, 9, 8, 5, 1, 3, 1, 4, 4, 7, 3, 14, 6, 3, 5, 0, 6, 5, 14, 7, 7, 5, 14, 8, 3, 7, 12, 5, 6, 7, 9, 5, 1, 0, 14, 9, 8, 0, 5, 8, 4, 8, 1, 8, 8, 7, 14, 3, 4, 3, 12, 4, 14, 4, 3, 4, 14, 1, 12, 11, 7, 5, 1, 5, 12, 5, 5, 14, 5, 7, 5, 0, 1, 3, 3, 1, 9, 7, 11, 7, 5, 4, 6, 8, 5, 11, 8, 7, 14, 7, 9, 4, 14, 5, 1, 6, 14, 3, 5, 14, 5, 7, 14, 5, 13, 0, 14, 14, 1, 7, 0, 4, 1, 9, 5, 8, 7, 5, 2, 13, 0, 14, 12, 5, 7, 5, 10, 14, 9, 7, 14, 7, 7, 3, 7, 0, 7, 8, 5, 2, 4, 7, 14, 5, 13, 6, 14, 5, 12, 13, 12, 3, 4, 1, 3, 3, 14, 8, 3, 8, 14, 8, 0, 5, 6, 5, 6, 14, 8, 12, 14, 14, 14, 3, 3, 0, 14, 6, 14, 5, 13, 0, 10, 3, 7, 4, 3, 3, 7, 5, 8, 7, 3, 12, 5, 0, 8, 4, 3, 4, 1, 12, 5, 2, 5, 14, 5, 14, 5, 1, 7, 12, 7, 1, 9, 14, 7, 5, 14, 7, 3, 14, 5, 5, 7, 7, 14, 1, 4, 14, 7, 7, 7, 7, 14, 5, 6, 14, 1, 1, 5, 5, 2, 0, 5, 1, 7, 3, 6, 2, 2, 14, 14, 9, 5, 3, 5, 14, 0, 5, 13, 1, 6, 14, 5, 3, 7, 2, 1, 12, 5, 14, 8, 4, 5, 4, 3, 1, 4, 10, 6, 6, 14, 14, 3, 6, 5, 5, 9, 6, 14, 7, 6, 0, 7, 5, 4, 12, 7, 5, 9, 6, 8, 2, 6, 5, 11, 0, 6, 4, 14, 14, 7, 3, 14, 12, 0, 3, 5, 1, 14, 7, 5, 1, 5, 3, 5, 1, 5, 14, 11, 5, 14, 3, 5, 3, 5, 6, 12, 11, 14, 9, 6, 0, 6, 5, 6, 9, 0, 14, 14, 4, 1, 3, 5, 14, 13, 7, 14, 5, 5, 6, 7, 3, 4, 7, 14, 8, 14, 6, 3, 1, 6, 14, 3, 6, 9, 6, 14, 14, 7, 12, 7, 6, 12, 4, 8, 0, 14, 0, 14, 14, 5, 9, 2, 5, 5, 14, 13, 3, 3, 14, 7, 3, 14, 4, 5, 4, 6, 6, 0, 14, 14, 13, 14, 7, 12, 7, 1, 12, 1, 14, 6, 1, 3, 6, 13, 5, 6, 4, 14, 7, 14, 5, 8, 14, 9, 6, 0, 1, 0, 14, 10, 5, 5, 14, 8, 8, 5, 4, 6, 7, 10, 14, 14, 14, 8, 1, 4, 14, 8, 8, 4, 5, 4, 8, 14, 14, 5, 1, 1, 10, 7, 3, 7, 6, 14, 4, 5, 12, 6, 6, 8, 14, 0, 0, 3, 11, 5, 6, 6, 14, 7, 0, 6, 3, 7, 14, 5, 0, 10, 14, 13, 12, 14, 12, 3, 5, 9, 5, 2, 6, 0, 4, 14, 3, 3, 10, 6, 0, 10, 1, 0, 14, 4, 13, 8, 4, 10, 7, 5, 10, 14, 7, 7, 14, 14, 0, 5, 0, 14, 3, 6, 1, 4, 6, 13, 7, 13, 1, 5, 1, 7, 8, 13, 8, 10, 1, 14, 8, 4, 7, 1, 14, 8, 5, 3, 5, 13, 6, 0, 5, 3, 6, 1, 9, 5, 14, 1, 14, 3, 0, 4, 3, 9, 13, 5, 12, 8, 5, 9, 3, 13, 6, 7, 7, 5, 7, 6, 5, 9, 0, 14, 4, 14, 0, 9, 7, 8, 14, 9, 12, 5, 7, 14, 11, 1, 0, 7, 3, 14, 14, 7, 8, 8, 8, 3, 5, 6, 14, 4, 4, 3, 0, 1, 3, 14, 5, 5, 12, 14, 7, 5, 3, 7, 14, 6, 14, 1, 5, 3, 3, 14, 6, 5, 0, 7, 12, 12, 4, 9, 7, 0, 2, 5, 4, 1, 4, 3, 9, 1, 9, 4, 7, 1, 9, 14, 4, 8, 12, 14, 14, 8, 0, 5, 14, 7, 14, 3, 7, 5, 6, 3, 5, 5, 7, 3, 7, 7, 6, 10, 8, 14, 14, 14, 4, 7, 0, 6, 3, 14, 14, 7, 5, 6, 7, 1, 9, 7, 0, 3, 14, 5, 9, 14, 5, 7, 14, 1, 0, 8, 5, 7, 6, 5, 3, 5, 6, 0, 14, 7, 7, 10, 14, 9, 0, 5, 12, 6, 5, 3, 5, 7, 7, 4, 6, 9, 14, 9, 14, 9, 12, 4, 5, 6, 3, 5, 3, 12, 1, 13, 1, 14, 3, 7, 8, 0, 14, 9, 8, 7, 14, 14, 14, 14, 5, 3, 0, 7, 14, 5, 5, 13, 5, 14, 0, 6, 12, 4, 14, 1, 5, 14, 7, 5, 3, 1, 7, 5, 1, 13, 7, 10, 5, 13, 5, 14, 1, 12, 14, 7, 5, 14, 5, 7, 7, 5, 14, 7, 8, 5, 14, 1, 6, 4, 5, 6, 3, 14, 9, 14, 14, 14, 2, 14, 14, 6, 14, 10, 3, 13, 7, 3, 13, 13, 6, 1, 5, 12, 5, 7, 5, 9, 5, 7, 5, 5, 2, 8, 3, 5, 6, 7, 14, 0, 6, 14, 7, 5, 14, 12, 8, 12, 7, 14, 1, 7, 8, 14, 2, 6, 2, 14, 5, 4, 14, 7, 14, 12, 9, 5, 5, 14, 7, 4, 5, 4, 8, 14, 5, 6, 9, 8, 1, 9, 14, 7, 5, 3, 14, 0, 7, 6, 6, 3, 1, 4, 5, 9, 9, 8, 4, 1, 0, 5, 1, 4, 2, 14, 3, 4, 5, 10, 14, 6, 4, 5, 8, 5, 7, 14, 13, 14, 14, 5, 7, 6, 4, 12, 4, 14, 5, 1, 8, 5, 9, 2, 12, 4, 4, 2, 6, 5, 2, 5, 13, 7, 5, 14, 5, 1, 0, 1, 0, 4, 14, 14, 0, 14, 4, 3, 9, 5, 9, 5, 14, 11, 7, 14, 5, 7, 11, 14, 14, 6, 7, 14, 4, 5, 1, 5, 6, 4, 6, 7, 1, 1, 2, 1, 5, 9, 8, 3, 5, 5, 14, 9, 5, 0, 4, 5, 14, 4, 3, 9, 0, 5, 5, 3, 5, 14, 14, 12, 8, 5, 12, 5, 6, 0, 1, 0, 3, 14, 6, 2, 13, 10, 8, 9, 11, 10, 6, 14, 1, 0, 7, 5, 9, 5, 0, 14, 0, 4, 7, 3, 1, 5, 0, 14, 14, 3, 9, 14, 5, 14, 0, 7, 14, 5, 7, 7, 3, 4, 1, 12, 3, 4, 2, 7, 12, 8, 1, 3, 3, 7, 2, 5, 12, 3, 9, 14, 7, 14, 4, 1, 3, 5, 10, 7, 4, 12, 14, 0, 3, 7, 14, 0, 6, 7, 3, 5, 5, 4, 5, 9, 5, 14, 1, 6, 5, 5, 6, 1, 1, 12, 2, 1, 11, 4, 3, 14, 9, 7, 0, 4, 5, 3, 6, 1, 5, 14, 6, 14, 14, 2, 4, 8, 5, 4, 5, 7, 7, 14, 14, 1, 7, 6, 5, 8, 5, 14, 13, 7, 6, 3, 6, 14, 7, 5, 5, 5, 14, 8, 13, 6, 5, 8, 8, 14, 5, 4, 11, 14, 3, 2, 5, 6, 1, 4, 5, 5, 7, 7, 0, 8, 12, 12, 3, 3, 9, 12, 14, 14, 12, 14, 6, 8, 1, 11, 0, 14, 12, 12, 5, 10, 5, 5, 5, 7, 5, 14, 12, 14, 0, 3, 5, 13, 7, 12, 4, 1, 5, 10, 5, 5, 12, 4, 5, 0, 3, 4, 12, 14, 5, 14, 4, 1, 5, 1, 13, 7, 5, 5, 3, 11, 5, 3, 7, 12, 1, 0, 7, 10, 0, 6, 5, 5, 12, 14, 5, 0, 0, 8, 3, 10, 0, 5, 4, 5, 5, 8, 14, 14, 7, 3, 8, 14, 7, 5, 2, 7, 5, 14, 14, 14, 14, 3, 9, 3, 5, 8, 5, 3, 3, 1, 5, 7, 6, 7, 3, 4, 13, 4, 13, 9, 6, 4, 1, 3, 5, 5, 6, 13, 6, 5, 14, 5, 8, 5, 7, 9, 8, 5, 3, 12, 7, 8, 6, 14, 13, 10, 5, 5, 7, 13, 4, 4, 5, 4, 1, 0, 5, 9, 1, 1, 5, 5, 5, 12, 5, 12, 4, 12, 14, 2, 14, 6, 8, 3, 7, 4, 5, 3, 14, 3, 0, 1, 8, 5, 6, 0, 13, 14, 11, 3, 4, 14, 1, 1, 4, 7, 5, 14, 3, 4, 5, 7, 5, 9, 3, 4, 9, 14, 14, 14, 8, 7, 1, 14, 3, 11, 14, 14, 14, 6, 14, 7, 1, 5, 5, 5, 7, 6, 8, 5, 7, 8, 5, 5, 14, 0, 5, 5, 14, 12, 14, 12, 5, 14, 14, 14, 7, 5, 7, 4, 14, 14, 6, 14, 3, 5, 14, 5, 5, 6, 4, 3, 4, 6, 7, 9, 5, 5, 5, 5, 8, 6, 6, 0, 0, 6, 6, 10, 5, 5, 5, 6, 3, 14, 5, 12, 4, 14, 7, 14, 8, 3, 6, 12, 14, 14, 10, 5, 7, 3, 0, 1, 8, 4, 5, 5, 1, 1, 3, 12, 5, 8, 7, 12, 1, 7, 7, 14, 5, 14, 5, 5, 7, 5, 5, 14, 9, 4, 10, 0, 6, 6, 5, 14, 1, 12, 14, 14, 6, 0, 14, 6, 14, 5, 5, 5, 4, 2, 11, 1, 4, 13, 5, 2, 14, 5, 2, 1, 14, 5, 7, 13, 0, 4, 0, 3, 5, 7, 14, 9, 5, 14, 8, 5, 14, 0, 5, 7, 12, 14, 8, 7, 14, 14, 8, 14, 6, 1, 12, 4, 14, 4, 7, 3, 14, 14, 4, 5, 7, 3, 6, 14, 14, 10, 6, 8, 8, 5, 14, 7, 14, 4, 5, 3, 6, 8, 4, 0, 10, 1, 5, 9, 6, 5, 7, 1, 13, 6, 0, 0, 1, 14, 7, 6, 10, 4, 7, 1, 5, 14, 2, 5, 5, 1, 12, 4, 1, 8, 5, 5, 5, 5, 8, 4, 9, 3, 7, 14, 13, 7, 5, 5, 5, 8, 8, 14, 1, 5, 12, 12, 3, 5, 3, 5, 5, 1, 5, 5, 7, 12, 6, 8, 5, 1, 5, 5, 10, 1, 6, 7, 14, 4, 5, 7, 3, 9, 1, 4, 7, 5, 14, 3, 5, 6, 5, 8, 11, 8, 2, 14, 0, 14, 0, 12, 10, 12, 0, 7, 1, 5, 14, 14, 14, 5, 1, 7, 13, 14, 3, 14, 6, 12, 8, 6, 7, 14, 12, 4, 7, 14, 3, 14, 8, 5, 5, 6, 5, 14, 4, 0, 9, 13, 14, 6, 9, 12, 14, 10, 8, 12, 12, 13, 7, 7, 1, 0, 6, 5, 14, 3, 7, 5, 6, 14, 2, 9, 14, 5, 9, 1, 1, 1, 10, 8, 3, 0, 5, 5, 14, 5, 6, 14, 4, 14, 11, 6, 14, 14, 9, 7, 6, 14, 6, 13, 5, 5, 8, 13, 3, 5, 8, 1, 14, 10, 0, 14, 12, 0, 12, 1, 8, 14, 7, 9, 14, 3, 8, 6, 14, 7, 14, 14, 4, 1, 4, 13, 5, 6, 7, 13, 2, 5, 14, 8, 5, 7, 3, 5, 6, 1, 7, 9, 11, 0, 12, 14, 8, 8, 0, 14, 7, 5, 5, 5, 8, 5, 5, 8, 5, 14, 8, 14, 1, 3, 7, 14, 5, 14, 5, 5, 3, 4, 7, 6, 1, 8, 5, 0, 7, 5, 14, 5, 7, 4, 9, 5, 8, 5, 4, 14, 4, 7, 5, 7, 1, 14, 5, 12, 8, 7, 14, 5, 0, 0, 5, 14, 5, 0, 14, 3, 5, 8, 12, 5, 3, 7, 14, 3, 6, 1, 3, 8, 1, 9, 7, 1, 1, 5, 3, 0, 5, 14, 9, 9, 14, 4, 8, 5, 14, 14, 6, 4, 7, 14, 9, 4, 8, 5, 6, 12, 5, 14, 7, 5, 3, 7, 3, 5, 5, 7, 3, 9, 5, 5, 14, 7, 5, 14, 14, 1, 6, 8, 1, 12, 12, 12, 5, 14, 1, 14, 0, 4, 5, 8, 8, 14, 4, 3, 8, 9, 9, 4, 5, 3, 0, 5, 8, 5, 0, 3, 1, 1, 1, 14, 12, 5, 7, 13, 7, 14, 3, 1, 1, 5, 5, 5, 5, 7, 5, 5, 0, 14, 0, 8, 4, 7, 14, 4, 14, 14, 14, 7, 14, 9, 8, 5, 9, 3, 7, 1, 14, 5, 9, 14, 7, 4, 1, 1, 12, 5, 2, 5, 9, 7, 14, 6, 14, 7, 2, 4, 9, 0, 4, 14, 14, 5, 6, 1, 14, 6, 12, 7, 6, 14, 3, 4, 1, 13, 7, 1, 5, 12, 1, 14, 7, 5, 6, 14, 5, 7, 12, 4, 10, 1, 7, 6, 13, 13, 1, 13, 8, 7, 1, 12, 12, 12, 14, 14, 0, 5, 5, 5, 2, 12, 4, 8, 2, 14, 2, 5, 14, 14, 14, 6, 0, 8, 8, 6, 7, 0, 6, 5, 6, 6, 4, 8, 8, 8, 6, 5, 8, 5, 14, 6, 5, 0, 9, 5, 14, 5, 6, 7, 14, 7, 3, 6, 14, 14, 2, 7, 1, 2, 0, 14, 11, 3, 7, 14, 8, 6, 0, 12, 5, 3, 5, 13, 3, 0, 6, 14, 14, 0, 12, 0, 5, 12, 14, 8, 5, 14, 0, 7, 6, 9, 5, 5, 0, 5, 0, 7, 7, 3, 0, 1, 13, 14, 5, 5, 10, 7, 6, 12, 14, 10, 3, 14, 5, 14, 4, 1, 3, 5, 1, 14, 7, 14, 0, 9, 14, 5, 9, 14, 5, 14, 9, 0, 7, 8, 0, 4, 6, 9, 6, 0, 3, 5, 8, 6, 5, 5, 6, 5, 14, 3, 4, 4, 1, 13, 14, 7, 8, 8, 4, 5, 8, 0, 6, 5, 4, 13, 5, 3, 4, 6, 14, 12, 5, 6, 13, 4, 5, 14, 14, 5, 14, 5, 1, 14, 7, 9, 5, 4, 7, 14, 1, 5, 2, 12, 14, 14, 14, 4, 14, 5, 8, 9, 14, 5, 1, 11, 3, 4, 1, 4, 3, 3, 7, 3, 5, 5, 5, 0, 6, 1, 5, 5, 7, 5, 13, 8, 12, 12, 7, 14, 6, 6, 3, 5, 8, 13, 5, 2, 8, 4, 5, 6, 14, 5, 0, 14, 12, 0, 0, 4, 14, 14, 7, 7, 7, 7, 12, 4, 3, 7, 4, 5, 8, 1, 7, 9, 9, 2, 7, 5, 12, 7, 2, 7, 7, 6, 1, 14, 4, 14, 6, 5, 7, 1, 2, 5, 5, 6, 14, 8, 1, 7, 5, 14, 5, 13, 9, 12, 12, 1, 10, 8, 9, 0, 4, 8, 12, 7, 6, 14, 14, 12, 5, 5, 10, 12, 8, 5, 6, 4, 6, 1, 7, 5, 3, 6, 4, 14, 9, 1, 6, 0, 14, 7, 5, 6, 5, 5, 5, 3, 6, 5, 12, 5, 12, 13, 4, 0, 11, 1, 7, 5, 14, 4, 6, 6, 5, 14, 3, 3, 2, 5, 8, 5, 13, 8, 14, 5, 5, 14, 14, 3, 7, 5, 3, 14, 9, 14, 8, 3, 5, 5, 3, 1, 3, 14, 12, 6, 5, 8, 5, 1, 5, 14, 4, 14, 5, 4, 0, 4, 1, 2, 1, 3, 1, 3, 7, 5, 0, 5, 8, 5, 13, 12, 5, 14, 4, 5, 14, 4, 5, 5, 3, 13, 7, 1, 8, 7, 3, 4, 5, 4, 12, 0, 5, 4, 4, 3, 7, 1, 14, 6, 8, 5, 4, 12, 14, 14, 5, 5, 14, 7, 5, 3, 9, 6, 5, 14, 14, 0, 12, 1, 5, 8, 5, 2, 5, 14, 5, 14, 14, 1, 1, 9, 11, 2, 5, 5, 5, 7, 6, 14, 5, 5, 5, 12, 8, 6, 8, 14, 14, 8, 5, 14, 1, 7, 0, 7, 3, 14, 7, 6, 5, 8, 5, 5, 14, 0, 3, 7, 5, 9, 4, 5, 12, 8, 0, 8, 14, 6, 1, 7, 8, 14, 14, 4, 5, 0, 5, 13, 4, 7, 0, 2, 1, 4, 6, 5, 7, 8, 1, 14, 7, 5, 14, 7, 14, 9, 4, 13, 1, 14, 12, 1, 14, 12, 8, 11, 0, 7, 3, 9, 5, 5, 5, 14, 7, 8, 3, 7, 3, 3, 3, 6, 2, 1, 14, 14, 9, 5, 7, 14, 4, 10, 3, 14, 4, 5, 13, 7, 5, 6, 5, 8, 7, 1, 9, 14, 14, 9, 3, 5, 11, 1, 3, 7, 7, 6, 14, 0, 14, 7, 14, 14, 5, 8, 9, 13, 5, 10, 7, 13, 6, 14, 6, 2, 13, 14, 13, 5, 3, 1, 14, 5, 5, 14, 14, 9, 5, 13, 5, 3, 4, 7, 6, 6, 7, 8, 14, 9, 14, 4, 3, 3, 8, 7, 5, 7, 5, 7, 5, 7, 0, 13, 3, 0, 5, 14, 1, 7, 8, 3, 1, 7, 7, 8, 5, 3, 0, 14, 2, 5, 5, 13, 3, 3, 11, 0, 4, 14, 13, 6, 12, 8, 0, 7, 7, 7, 5, 1, 4, 6, 1, 14, 5, 14, 14, 3, 7, 3, 4, 4, 4, 5, 9, 7, 5, 5, 14, 0, 5, 6, 2, 14, 7, 9, 8, 2, 14, 5, 14, 6, 7, 4, 6, 7, 13, 9, 12, 2, 7, 3, 11, 0, 5, 1, 4, 14, 14, 5, 8, 3, 0, 9, 9, 6, 3, 13, 1, 5, 7, 13, 4, 5, 1, 6, 4, 14, 5, 1, 1, 8, 5, 7, 14, 14, 14, 6, 14, 6, 2, 4, 14, 12, 6, 7, 12, 14, 14, 3, 7, 3, 7, 14, 5, 6, 7, 7, 7, 6, 5, 8, 1, 5, 5, 4, 14, 13, 4, 1, 5, 14, 7, 7, 6, 14, 5, 14, 14, 5, 1, 14, 6, 5, 3, 3, 14, 14, 1, 5, 12, 4, 1, 7, 8, 7, 4, 3, 5, 9, 14, 3, 6, 0, 5, 12, 6, 13, 13, 3, 6, 12, 5, 4, 9, 5, 7, 14, 7, 8, 13, 7, 14, 4, 1, 8, 4, 9, 14, 5, 1, 7, 3, 0, 14, 5, 5, 14, 14, 7, 3, 6, 11, 5, 6, 12, 5, 1, 5, 12, 7, 7, 3, 14, 1, 7, 7, 7, 5, 9, 5, 5, 0, 14, 5, 2, 7, 14, 9, 2, 5, 3, 5, 13, 7, 14, 14, 6, 0, 7, 2, 0, 0, 5, 13, 14, 13, 6, 1, 6, 7, 5, 8, 9, 1, 0, 8, 3, 5, 7, 4, 14, 7, 0, 14, 11, 0, 5, 5, 5, 2, 5, 6, 7, 5, 14, 8, 0, 5, 7, 1, 8, 12, 12, 5, 4, 5, 5, 14, 12, 14, 5, 2, 3, 12, 3, 3, 4, 7, 14, 4, 3, 5, 14, 5, 12, 1, 1, 6, 5, 13, 14, 8, 6, 5, 3, 5, 7, 5, 14, 9, 14, 6, 1, 5, 12, 6, 1, 14, 5, 5, 6, 1, 7, 1, 14, 11, 5, 8, 3, 6, 8, 8, 1, 14, 6, 5, 5, 8, 5, 6, 6, 14, 5, 8, 8, 4, 0, 5, 1, 12, 14, 4, 10, 0, 5, 5, 14, 5, 13, 7, 12, 4, 5, 14, 14, 13, 6, 3, 7, 5, 7, 14, 6, 14, 7, 7, 7, 7, 5, 5, 1, 5, 8, 1, 11, 14, 0, 14, 4, 11, 12, 13, 7, 1, 10, 3, 4, 4, 7, 1, 14, 8, 6, 5, 0, 6, 14, 8, 8, 0, 7, 2, 1, 14, 9, 8, 11, 1, 3, 4, 5, 14, 6, 5, 4, 14, 8, 6, 5, 12, 14, 7, 14, 14, 6, 12, 14, 7, 7, 0, 2, 11, 5, 14, 0, 7, 12, 0, 8, 9, 6, 7, 0, 3, 12, 5, 4, 5, 7, 14, 6, 14]\n"
          ]
        }
      ]
    },
    {
      "cell_type": "code",
      "source": [
        "labels = data.target\n",
        "print(labels[:15])\n",
        "print(data.target_names)\n",
        "#print(document_topic_distribution[:15])\n",
        "topic_coherence = {'alt.atheism': [15], 'comp.graphics': [15], 'comp.os.ms-windows.misc': [15], 'comp.sys.ibm.pc.hardware': [15], 'comp.sys.mac.hardware': [15], 'comp.windows.x': [15], 'misc.forsale': [15], 'rec.autos': [15], 'rec.motorcycles': [15], 'rec.sport.baseball': [15], 'rec.sport.hockey': [15], 'sci.crypt': [15], 'sci.electronics': [15], 'sci.med': [15], 'sci.space': [15], 'soc.religion.christian': [15], 'talk.politics.guns': [15], 'talk.politics.mideast': [15], 'talk.politics.misc': [15], 'talk.religion.misc': [15]}\n",
        "for index, single_distribution in enumerate(document_topic_distribution):\n",
        "    topic_coherence[data.target_names[labels[index]]] += single_distribution\n",
        "#print(topic_coherence)\n",
        "for topic in topic_coherence:\n",
        "    topic_id = np.argmax(topic_coherence[topic])\n",
        "    print(f\"{topic}: Topic #{topic_id} ({', '.join(topic_top_words[topic_id])})\")"
      ],
      "metadata": {
        "id": "iSRGjpWqTy9K"
      },
      "execution_count": null,
      "outputs": []
    },
    {
      "cell_type": "markdown",
      "source": [
        "# Correlated Model\n"
      ],
      "metadata": {
        "id": "cVW0Yr7D1EBz"
      }
    },
    {
      "cell_type": "code",
      "source": [
        "import numpy as np\n",
        "import scipy.special as sps"
      ],
      "metadata": {
        "id": "rwrZ1YKk318M"
      },
      "execution_count": null,
      "outputs": []
    },
    {
      "cell_type": "code",
      "source": [
        "pip install pyvis\n"
      ],
      "metadata": {
        "id": "jUnqi5qRB_gl"
      },
      "execution_count": null,
      "outputs": []
    },
    {
      "cell_type": "code",
      "source": [
        "pip install tomotopy\n"
      ],
      "metadata": {
        "id": "-GpcqlI4GR78"
      },
      "execution_count": null,
      "outputs": []
    },
    {
      "cell_type": "code",
      "source": [
        "import tomotopy as tp\n",
        "import nltk\n",
        "from nltk.corpus import stopwords\n",
        "import re\n",
        "from sklearn.datasets import fetch_20newsgroups\n",
        "from pyvis.network import Network"
      ],
      "metadata": {
        "id": "4vj_GdjpBwm6"
      },
      "execution_count": null,
      "outputs": []
    },
    {
      "cell_type": "code",
      "source": [
        "#porter_stemmer = nltk.PorterStemmer().stem\n",
        "pat = re.compile('^[a-z]{4,}$')\n",
        "#corpus = tp.utils.Corpus(\n",
        " #      tokenizer=tp.utils.SimpleTokenizer(),\n",
        "  #    stopwords=lambda x: x in stopwords_list or not pat.match(x))\n",
        "corpus = tp.utils.Corpus( stopwords=lambda x:  not pat.match(x))\n",
        "for document in lemmatized_documents:\n",
        "    corpus.add_doc(document)\n",
        "\n",
        "#model = tp.LDAModel(k=5, corpus=corpus)\n",
        "#model.train(100)\n",
        "corpus.save('preprocessed_20news.cps')"
      ],
      "metadata": {
        "id": "26eVbP2dBmEs"
      },
      "execution_count": null,
      "outputs": []
    },
    {
      "cell_type": "code",
      "source": [
        "mdl = tp.CTModel(min_df=5, k=20, corpus=corpus)\n",
        "mdl.train(0)"
      ],
      "metadata": {
        "id": "D5qvuAsoDD04"
      },
      "execution_count": null,
      "outputs": []
    },
    {
      "cell_type": "code",
      "source": [
        "#mdl.num_beta_sample = 5\n",
        "print('Num docs:{}, Num Vocabs:{}, Total Words:{}'.format(\n",
        "   len(mdl.docs), len(mdl.used_vocabs), mdl.num_words\n",
        "))\n",
        "print('Removed Top words: ', *mdl.removed_top_words)\n"
      ],
      "metadata": {
        "id": "fD163BMiDJo0"
      },
      "execution_count": null,
      "outputs": []
    },
    {
      "cell_type": "code",
      "source": [
        "for i in range(0, 10):\n",
        "    print('Iteration: {:04}, LL per word: {:.4}'.format(i, mdl.ll_per_word))\n",
        "    mdl.train(10)\n",
        "print('Iteration: {:04}, LL per word: {:.4}'.format(320, mdl.ll_per_word))"
      ],
      "metadata": {
        "id": "-LWUM-2QE6Mq"
      },
      "execution_count": null,
      "outputs": []
    },
    {
      "cell_type": "code",
      "source": [
        "mdl.summary()"
      ],
      "metadata": {
        "id": "Yx5QvrNW65kU"
      },
      "execution_count": null,
      "outputs": []
    },
    {
      "cell_type": "code",
      "source": [
        "extractor = tp.label.PMIExtractor( max_len=10, max_cand=100)\n",
        "cands = extractor.extract(mdl)\n",
        "labeler = tp.label.FoRelevance(mdl, cands, min_df=5, smoothing=1e-2)\n",
        "for k in range(mdl.k):\n",
        "    print(\"== Topic #{} ==\".format(k))\n",
        "    print(\"Labels:\", ', '.join(label for label, score in labeler.get_topic_labels(k, top_n=5)))\n",
        "    for word, prob in mdl.get_topic_words(k, top_n=10):\n",
        "        print(word, prob, sep='\\t')\n",
        "    print()"
      ],
      "metadata": {
        "id": "wSy_a_xFQ2O8"
      },
      "execution_count": null,
      "outputs": []
    },
    {
      "cell_type": "code",
      "source": [
        "mdl.extract"
      ],
      "metadata": {
        "id": "Oiax85q9Wtph"
      },
      "execution_count": null,
      "outputs": []
    },
    {
      "cell_type": "code",
      "source": [
        "mdl.get_correlations(topic_id=8)"
      ],
      "metadata": {
        "id": "5AJCLq_V5Xkk"
      },
      "execution_count": null,
      "outputs": []
    },
    {
      "cell_type": "code",
      "source": [
        "import seaborn as sns\n",
        "\n",
        "f, ax = plt.subplots(figsize=(10, 8))\n",
        "corr =  mdl.get_correlations()\n",
        "sns.heatmap(corr, mask=np.zeros_like(corr, dtype=bool), cmap=sns.diverging_palette(220, 10, as_cmap=True),\n",
        "            square=True, ax=ax)"
      ],
      "metadata": {
        "id": "ua_5XqsAs0Hf"
      },
      "execution_count": null,
      "outputs": []
    }
  ]
}